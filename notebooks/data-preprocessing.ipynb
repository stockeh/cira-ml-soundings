{
 "cells": [
  {
   "cell_type": "markdown",
   "metadata": {},
   "source": [
    "# Data Preprocessing"
   ]
  },
  {
   "cell_type": "code",
   "execution_count": 1,
   "metadata": {},
   "outputs": [],
   "source": [
    "import matplotlib.pyplot as plt\n",
    "from matplotlib.pyplot import cm\n",
    "import numpy as np\n",
    "import pandas as pd\n",
    "import xarray as xr\n",
    "from netCDF4 import Dataset\n",
    "import glob\n",
    "import datetime\n",
    "import time\n",
    "import copy\n",
    "\n",
    "import sys  \n",
    "sys.path.insert(0, '../')\n",
    "\n",
    "from soundings.preprocessing import dataloader as dl\n",
    "from soundings.preprocessing import goesimager as im\n",
    "from soundings.preprocessing import rtmaloader\n",
    "from soundings.preprocessing import raploader\n",
    "from soundings.preprocessing import preprocess\n",
    "from soundings.utils import radiosonde_products\n",
    "from soundings.utils import radiosonde_utils\n",
    "\n",
    "from IPython.display import display\n",
    "from ipywidgets import FloatProgress\n",
    "from metpy.plots import SkewT\n",
    "\n",
    "np.set_printoptions(suppress=True)\n",
    "\n",
    "%matplotlib inline\n",
    "%config InlineBackend.figure_format = 'retina'\n",
    "\n",
    "%load_ext autoreload\n",
    "%autoreload 2"
   ]
  },
  {
   "cell_type": "code",
   "execution_count": 2,
   "metadata": {},
   "outputs": [],
   "source": [
    "# vol = '/Users/stock/Development/research/soundings/data/subset/'\n",
    "vol = '/mnt/mlnas01/mlsoundings/'"
   ]
  },
  {
   "cell_type": "markdown",
   "metadata": {},
   "source": [
    "GOES-16, NWP RAP/HRRR, RTMA, Radiosonde\n",
    "---\n",
    "\n",
    "- Radiosonde\n",
    "    - Date\n",
    "    - Latitude/Longitude\n",
    "    - Elevation\n",
    "    \n",
    "- RTMA\n",
    "    - Regional surface values Pressure/Temperature/Dew Point\n",
    "\n",
    "- NWP\n",
    "    - Regional model with isobaric values\n",
    "        - v/u wind component\n",
    "        - cloud ice\n",
    "        - temperature\n",
    "        - dew point\n",
    "        - specific humidity\n",
    "        \n",
    "- GOES-16\n",
    "    - Regional model capturing bands 8, 9, 10, 11, 13, 14, 15, 16"
   ]
  },
  {
   "cell_type": "markdown",
   "metadata": {},
   "source": [
    "### Data Organization\n",
    "$\n",
    "\\begin{align}\n",
    "X_n  & \\\\\n",
    "& G_8 : \\text{upper-level water vapor 6.2}\\mu m \\\\\n",
    "& G_9 : \\text{mid-level water vapor 6.9}\\mu m \\\\\n",
    "& G_{10} : \\text{lower-level water vapor 7.3}\\mu m \\\\\n",
    "& G_{11} : \\text{cloud-top phase 8.4}\\mu m \\\\\n",
    "& G_{13} : \\text{clean longwave window 10.3}\\mu m \\\\\n",
    "& G_{14} : \\text{longwave window 11.2}\\mu m \\\\\n",
    "& G_{15} : \\text{dirty longwave window 12.3}\\mu m \\\\\n",
    "& G_{16} : \\text{CO2 longwave 13.3}\\mu m \\\\\n",
    "& P^s : \\text{RTMA Surface Pressure} \\\\\n",
    "& T^s : \\text{RTMA Surface Temperature} \\\\\n",
    "& T_d^s : \\text{RTMA Surface Dew Point} \\\\\n",
    "& P^n : \\text{NWP Pressure, 25 mb increments} \\\\\n",
    "& T^n : \\text{NWP Temperature} \\\\\n",
    "& T_d^n : \\text{NWP Dew Point} \\\\\n",
    "Y_n  & \\\\\n",
    "& T^r : \\text{Radiosonde Temperature} \\\\\n",
    "& T_d^r : \\text{Radiosonde Dew Point} \n",
    "\\end{align}\n",
    "$\n",
    "\n",
    "| date          | lat  | lon | $G_n$ | $P^s$ | $T^s$ | $T_d^s$ | $P^n$ | $T^n$ | $T_d^n$ | ---- | $T^r$ | $T_d^r$ |\n",
    "|:-------------:| :--: |:--: | :--:  | :--:  | :--:  | :--:    | :--:  | :---: | :--:    | ---- | :--:  | :--:    |\n",
    "|2019-09-12-0300| 40.2 | -95.| ...   | 999   | 32.0  | 21.5    | 1000  | 31.2  | 22.2    | ---- | 31.6  | 21.9    |\n",
    "|2019-09-12-0300| 40.2 | -95.| ...   | 999   | 32.0  | 21.5    | 995   | 31.5  | 21.9    | ---- | 31.2  | 21.4    |\n",
    "|2019-09-12-0300| 40.2 | -95.| ...   | 999   | 32.0  | 21.5    | 990   | 30.3  | 20.5    | ---- | 30.8  | 20.6    |\n",
    "...\n",
    "\n",
    "\n",
    "| date          | lat  | lon | $G_n$ | $P^s$ | $T^s$ | $T_d^s$ | $T_{1000}^n$ | $T_{d 1000}^n$ | $T_{995}^n$ | $T_{d 995}^n$ | ... | ---- | $T_{1000}^r$ | $T_{d 1000}^r$ | $T_{995}^r$ | $T_{d 995}^r$ | ... |\n",
    "|:-------------:| :--: | :--: | :--: | :--:  | :--:  | :--: | :---: | :--: | :---: | :--: | :--: | ---- | :--: | :--: | :--: | :--: | :--: |\n",
    "|2019-09-12-0300| 40.2 | -95.| ... | 999 | 32.0 | 21.5 | 31.2 | 22.2 | 31.2 | 22.2 | ... | ---- | 31.6 | 21.9 | 31.6 | 21.9 | ... |"
   ]
  },
  {
   "cell_type": "code",
   "execution_count": 3,
   "metadata": {},
   "outputs": [],
   "source": [
    "def add_input(D, inputs, key):\n",
    "    x_cord, y_cord = dl.lat_lon_point(D, inputs['lat'], inputs['lon'])\n",
    "    try:\n",
    "        inputs[key] = D['data'][x_cord][y_cord]\n",
    "    except:\n",
    "        print(f'ERROR! Unable to extract value from {f}')\n",
    "        \n",
    "def error_msg(model, inputs):\n",
    "    print(f'ERROR! Unable to get {model} data for sounding. '\n",
    "          f\"{inputs['date']}, {inputs['lat']}, {inputs['lon']}\")"
   ]
  },
  {
   "cell_type": "code",
   "execution_count": 4,
   "metadata": {},
   "outputs": [
    {
     "name": "stdout",
     "output_type": "stream",
     "text": [
      "ERROR! Unable to get GOES data for sounding. 2020-09-12 14:00:00+00:00, 32.5, -114.0\n",
      "ERROR! Unable to get GOES data for sounding. 2019-09-12 16:00:00+00:00, 32.5, -114.0\n",
      "ERROR! Unable to get GOES data for sounding. 2019-09-12 20:00:00+00:00, 32.5, -114.0\n",
      "GOES took 8.018509149551392\n",
      "RTMA took 1.7383151054382324\n",
      "NWP took 2.242191791534424\n",
      "INFO! Appended sounding data for 2019-09-12 19:00:00+00:00, 41.6, -90.57\n",
      "ERROR! Unable to get GOES data for sounding. 2019-09-12 15:00:00+00:00, 28.48, -80.55\n"
     ]
    }
   ],
   "source": [
    "fin = vol + '/radiosonde/20190912.dat'\n",
    "radiosondes = dl.read_sonde(fin)\n",
    "\n",
    "interval = 5\n",
    "ret = None\n",
    "\n",
    "for i in range(len(radiosondes)):\n",
    "    \n",
    "    y = []\n",
    "    x = []\n",
    "    \n",
    "    ## extract SOUNDINGS\n",
    "    sonde = pd.DataFrame(radiosondes[i]['data']).values\n",
    "    # interpolate sounding values \n",
    "    for j in range(len(sonde) - 1):\n",
    "        # pressure, temperature, dewpoint\n",
    "        p1, t1, td1 = sonde[j][1], sonde[j][3], sonde[j][4]\n",
    "        p2, t2, td2 = sonde[j+1][1], sonde[j+1][3], sonde[j+1][4]\n",
    "        if p1 == p2:\n",
    "            continue\n",
    "        # temperature slope\n",
    "        mt = (t1-t2)/(p1-p2)\n",
    "        bt = -mt*p1 + t1\n",
    "        # dewpoint slope\n",
    "        mtd = (td1-td2)/(p1-p2)\n",
    "        btd = -mtd*p1 + td1\n",
    "        # add new values within interval\n",
    "        for p in np.arange(p1, p2, -1):\n",
    "            if p % interval == 0:\n",
    "                t = mt*p + bt\n",
    "                td = mtd*p + btd\n",
    "                y.append({'P_r': p, 'T_r': t, 'Td_r': td})\n",
    "    \n",
    "    sonde_meta = radiosondes[i]['metadata']\n",
    "    date = datetime.datetime(int(sonde_meta['YEAR']), time.strptime(sonde_meta['MONTH'],'%b').tm_mon, \n",
    "                             int(sonde_meta['DAY']), int(sonde_meta['HOUR']), tzinfo=datetime.timezone.utc)\n",
    "    inputs = {}\n",
    "    inputs['lat'], inputs['lon'] = sonde_meta['LAT'], sonde_meta['LON']\n",
    "    inputs['date'] = date\n",
    "    t0 = time.time()\n",
    "    \n",
    "    ## extract GOES\n",
    "    files = sorted(glob.glob(vol + 'goes/' + date.strftime('*%Y%j%H*')))\n",
    "    if len(files) != 8:\n",
    "        error_msg('GOES', inputs)\n",
    "        continue\n",
    "    for f in files:\n",
    "        D = dl.read_goes(f)\n",
    "        add_input(D, inputs, 'G'+str(D['band_id'][0]))\n",
    "    print(f'GOES took {time.time()-t0}')\n",
    "    t0 = time.time()\n",
    "    \n",
    "    ## extract RTMA\n",
    "    indicies = {'Pressure': 'P_s', 'Temperature': 'T_s', 'Dew point temperature': 'Td_s'}\n",
    "    directories = glob.glob(vol + 'rtma/' + date.strftime('*%Y%m%d*/'))\n",
    "    valid = True\n",
    "    if len(directories) != 3:\n",
    "        valid = False\n",
    "        \n",
    "    for d in directories:\n",
    "        files = glob.glob(d + '/' + date.strftime('*%Y%m%d%H*'))\n",
    "        if len(files) == 0:\n",
    "            valid = False\n",
    "            break\n",
    "        for f in files:\n",
    "            D = dl.read_rtma(f)\n",
    "            add_input(D, inputs, indicies[D['name']])\n",
    "    if not valid:\n",
    "        error_msg('RTMA', inputs)\n",
    "        continue\n",
    "    print(f'RTMA took {time.time()-t0}')\n",
    "    t0 = time.time()\n",
    "    \n",
    "    ## extract NWP RAP\n",
    "    files = glob.glob(vol + 'nwp_model/' + date.strftime('*rap_*%Y%m%d_%H*'))\n",
    "    if len(files) == 0:\n",
    "        error_msg('NWP', inputs)\n",
    "        continue\n",
    "    for f in files:\n",
    "        Ds = dl.read_nwp(f)[::-1]\n",
    "        x_cord, y_cord = dl.lat_lon_point(Ds[0], inputs['lat'], inputs['lon'])\n",
    "        for j in range(len(Ds) - 1):\n",
    "            # pressure, temperature\n",
    "            p1, t1 = Ds[j]['level'], Ds[j]['data'][x_cord][y_cord]\n",
    "            p2, t2 = Ds[j+1]['level'], Ds[j+1]['data'][x_cord][y_cord]\n",
    "            if p1 == p2:\n",
    "                continue\n",
    "            # temperature slope\n",
    "            mt = (t1-t2)/(p1-p2)\n",
    "            bt = -mt*p1 + t1\n",
    "            # add new values within interval\n",
    "            for p in np.arange(p1, p2, -1):\n",
    "                if p % interval == 0:\n",
    "                    t = mt*p + bt\n",
    "                    inputs['P_n'] = p\n",
    "                    inputs['T_n'] = t -273.15\n",
    "                    x.append(copy.copy(inputs))\n",
    "    print(f'NWP took {time.time()-t0}')\n",
    "\n",
    "    join = pd.DataFrame(x).join(pd.DataFrame(y).set_index('P_r'), on='P_n').dropna()\n",
    "    if ret is None:\n",
    "        ret = join\n",
    "    else:\n",
    "        ret.append(join)\n",
    "        \n",
    "    print(f'INFO! Appended sounding data for '\n",
    "          f\"{inputs['date']}, {inputs['lat']}, {inputs['lon']}\")"
   ]
  },
  {
   "cell_type": "code",
   "execution_count": 8,
   "metadata": {},
   "outputs": [],
   "source": [
    "ret.to_csv(vol + '/preprocessed.csv', index=False)"
   ]
  },
  {
   "cell_type": "code",
   "execution_count": 9,
   "metadata": {},
   "outputs": [
    {
     "data": {
      "text/html": [
       "<div>\n",
       "<style scoped>\n",
       "    .dataframe tbody tr th:only-of-type {\n",
       "        vertical-align: middle;\n",
       "    }\n",
       "\n",
       "    .dataframe tbody tr th {\n",
       "        vertical-align: top;\n",
       "    }\n",
       "\n",
       "    .dataframe thead th {\n",
       "        text-align: right;\n",
       "    }\n",
       "</style>\n",
       "<table border=\"1\" class=\"dataframe\">\n",
       "  <thead>\n",
       "    <tr style=\"text-align: right;\">\n",
       "      <th></th>\n",
       "      <th>lat</th>\n",
       "      <th>lon</th>\n",
       "      <th>date</th>\n",
       "      <th>G8</th>\n",
       "      <th>G9</th>\n",
       "      <th>G10</th>\n",
       "      <th>G11</th>\n",
       "      <th>G13</th>\n",
       "      <th>G14</th>\n",
       "      <th>G15</th>\n",
       "      <th>G16</th>\n",
       "      <th>P_s</th>\n",
       "      <th>T_s</th>\n",
       "      <th>Td_s</th>\n",
       "      <th>P_n</th>\n",
       "      <th>T_n</th>\n",
       "      <th>T_r</th>\n",
       "      <th>Td_r</th>\n",
       "    </tr>\n",
       "  </thead>\n",
       "  <tbody>\n",
       "    <tr>\n",
       "      <th>3</th>\n",
       "      <td>41.6</td>\n",
       "      <td>-90.57</td>\n",
       "      <td>2019-09-12 19:00:00+00:00</td>\n",
       "      <td>237.014923</td>\n",
       "      <td>246.61084</td>\n",
       "      <td>256.565826</td>\n",
       "      <td>292.292877</td>\n",
       "      <td>296.516022</td>\n",
       "      <td>294.562866</td>\n",
       "      <td>289.730652</td>\n",
       "      <td>271.833771</td>\n",
       "      <td>98918.0</td>\n",
       "      <td>304.74</td>\n",
       "      <td>295.39</td>\n",
       "      <td>985</td>\n",
       "      <td>30.051764</td>\n",
       "      <td>30.755556</td>\n",
       "      <td>21.644444</td>\n",
       "    </tr>\n",
       "    <tr>\n",
       "      <th>4</th>\n",
       "      <td>41.6</td>\n",
       "      <td>-90.57</td>\n",
       "      <td>2019-09-12 19:00:00+00:00</td>\n",
       "      <td>237.014923</td>\n",
       "      <td>246.61084</td>\n",
       "      <td>256.565826</td>\n",
       "      <td>292.292877</td>\n",
       "      <td>296.516022</td>\n",
       "      <td>294.562866</td>\n",
       "      <td>289.730652</td>\n",
       "      <td>271.833771</td>\n",
       "      <td>98918.0</td>\n",
       "      <td>304.74</td>\n",
       "      <td>295.39</td>\n",
       "      <td>980</td>\n",
       "      <td>29.679932</td>\n",
       "      <td>29.200000</td>\n",
       "      <td>21.200000</td>\n",
       "    </tr>\n",
       "    <tr>\n",
       "      <th>5</th>\n",
       "      <td>41.6</td>\n",
       "      <td>-90.57</td>\n",
       "      <td>2019-09-12 19:00:00+00:00</td>\n",
       "      <td>237.014923</td>\n",
       "      <td>246.61084</td>\n",
       "      <td>256.565826</td>\n",
       "      <td>292.292877</td>\n",
       "      <td>296.516022</td>\n",
       "      <td>294.562866</td>\n",
       "      <td>289.730652</td>\n",
       "      <td>271.833771</td>\n",
       "      <td>98918.0</td>\n",
       "      <td>304.74</td>\n",
       "      <td>295.39</td>\n",
       "      <td>975</td>\n",
       "      <td>29.308099</td>\n",
       "      <td>28.800000</td>\n",
       "      <td>21.081818</td>\n",
       "    </tr>\n",
       "    <tr>\n",
       "      <th>6</th>\n",
       "      <td>41.6</td>\n",
       "      <td>-90.57</td>\n",
       "      <td>2019-09-12 19:00:00+00:00</td>\n",
       "      <td>237.014923</td>\n",
       "      <td>246.61084</td>\n",
       "      <td>256.565826</td>\n",
       "      <td>292.292877</td>\n",
       "      <td>296.516022</td>\n",
       "      <td>294.562866</td>\n",
       "      <td>289.730652</td>\n",
       "      <td>271.833771</td>\n",
       "      <td>98918.0</td>\n",
       "      <td>304.74</td>\n",
       "      <td>295.39</td>\n",
       "      <td>970</td>\n",
       "      <td>28.853162</td>\n",
       "      <td>28.400000</td>\n",
       "      <td>20.963636</td>\n",
       "    </tr>\n",
       "    <tr>\n",
       "      <th>7</th>\n",
       "      <td>41.6</td>\n",
       "      <td>-90.57</td>\n",
       "      <td>2019-09-12 19:00:00+00:00</td>\n",
       "      <td>237.014923</td>\n",
       "      <td>246.61084</td>\n",
       "      <td>256.565826</td>\n",
       "      <td>292.292877</td>\n",
       "      <td>296.516022</td>\n",
       "      <td>294.562866</td>\n",
       "      <td>289.730652</td>\n",
       "      <td>271.833771</td>\n",
       "      <td>98918.0</td>\n",
       "      <td>304.74</td>\n",
       "      <td>295.39</td>\n",
       "      <td>965</td>\n",
       "      <td>28.398224</td>\n",
       "      <td>28.000000</td>\n",
       "      <td>20.845455</td>\n",
       "    </tr>\n",
       "  </tbody>\n",
       "</table>\n",
       "</div>"
      ],
      "text/plain": [
       "    lat    lon                      date          G8         G9         G10  \\\n",
       "3  41.6 -90.57 2019-09-12 19:00:00+00:00  237.014923  246.61084  256.565826   \n",
       "4  41.6 -90.57 2019-09-12 19:00:00+00:00  237.014923  246.61084  256.565826   \n",
       "5  41.6 -90.57 2019-09-12 19:00:00+00:00  237.014923  246.61084  256.565826   \n",
       "6  41.6 -90.57 2019-09-12 19:00:00+00:00  237.014923  246.61084  256.565826   \n",
       "7  41.6 -90.57 2019-09-12 19:00:00+00:00  237.014923  246.61084  256.565826   \n",
       "\n",
       "          G11         G13         G14         G15         G16      P_s  \\\n",
       "3  292.292877  296.516022  294.562866  289.730652  271.833771  98918.0   \n",
       "4  292.292877  296.516022  294.562866  289.730652  271.833771  98918.0   \n",
       "5  292.292877  296.516022  294.562866  289.730652  271.833771  98918.0   \n",
       "6  292.292877  296.516022  294.562866  289.730652  271.833771  98918.0   \n",
       "7  292.292877  296.516022  294.562866  289.730652  271.833771  98918.0   \n",
       "\n",
       "      T_s    Td_s  P_n        T_n        T_r       Td_r  \n",
       "3  304.74  295.39  985  30.051764  30.755556  21.644444  \n",
       "4  304.74  295.39  980  29.679932  29.200000  21.200000  \n",
       "5  304.74  295.39  975  29.308099  28.800000  21.081818  \n",
       "6  304.74  295.39  970  28.853162  28.400000  20.963636  \n",
       "7  304.74  295.39  965  28.398224  28.000000  20.845455  "
      ]
     },
     "execution_count": 9,
     "metadata": {},
     "output_type": "execute_result"
    }
   ],
   "source": [
    "ret.head()"
   ]
  },
  {
   "cell_type": "code",
   "execution_count": 20,
   "metadata": {},
   "outputs": [],
   "source": [
    "fin = vol + '/radiosonde/US_25Jun2019.cdf'\n",
    "dataset = xr.open_dataset(fin, decode_times=False)\n",
    "\n",
    "profile, metadata = dl.read_radiosonde_launch(dataset, 0)"
   ]
  },
  {
   "cell_type": "code",
   "execution_count": 24,
   "metadata": {},
   "outputs": [
    {
     "data": {
      "text/plain": [
       "(256, 5)"
      ]
     },
     "execution_count": 24,
     "metadata": {},
     "output_type": "execute_result"
    }
   ],
   "source": [
    "profile.shape"
   ]
  },
  {
   "cell_type": "code",
   "execution_count": 21,
   "metadata": {},
   "outputs": [
    {
     "data": {
      "text/plain": [
       "(172, 256, 5)"
      ]
     },
     "execution_count": 21,
     "metadata": {},
     "output_type": "execute_result"
    }
   ],
   "source": [
    "interpolate_dim = 256\n",
    "soundings = np.zeros((dataset.dims['recNum'], interpolate_dim, 5))\n",
    "soundings.shape"
   ]
  },
  {
   "cell_type": "code",
   "execution_count": 62,
   "metadata": {},
   "outputs": [],
   "source": [
    "for i in range(dataset.dims['recNum']):\n",
    "    profile, _ = dl.read_radiosonde_launch(dataset, i)\n",
    "    soundings[i,:,:] = profile\n",
    "np.save(vol + 'preprocessed_US_25Jun2019.npy', soundings)"
   ]
  },
  {
   "cell_type": "code",
   "execution_count": 42,
   "metadata": {},
   "outputs": [],
   "source": [
    "!rm /Users/stock/Development/research/soundings/data/subset/preprocessed_US_25Jun2019.nc\n",
    "# ncfile = Dataset(vol + 'preprocessed_US_25Jun2019.nc', mode='w', format='NETCDF4') \n",
    "# ncfile.createDimension('launches', dataset.dims['recNum'])\n",
    "# ncfile.createDimension('sounding_dims', interpolate_dim)\n",
    "# radiosonde_P = ncfile.createVariable('radiosonde_P', np.float64, ('launches', 'sounding_dims'))\n",
    "# radiosonde_P.units = 'hPa'\n",
    "# radiosonde_P.long_name = 'radiosonde pressure'"
   ]
  },
  {
   "cell_type": "markdown",
   "metadata": {},
   "source": [
    "## GOES 16"
   ]
  },
  {
   "cell_type": "code",
   "execution_count": 7,
   "metadata": {
    "scrolled": false
   },
   "outputs": [
    {
     "name": "stdout",
     "output_type": "stream",
     "text": [
      "0 Central Lon (-156.780) and Lat (71.300) does not exist in GOES-16 projection.\n",
      "1 Central Lon (-156.780) and Lat (71.300) does not exist in GOES-16 projection.\n",
      "2 Central Lon (-156.780) and Lat (71.300) does not exist in GOES-16 projection.\n",
      "3 Central Lon (-156.780) and Lat (71.300) does not exist in GOES-16 projection.\n",
      "4 Central Lon (-165.430) and Lat (64.500) does not exist in GOES-16 projection.\n",
      "5 Central Lon (-161.800) and Lat (60.780) does not exist in GOES-16 projection.\n",
      "6 Central Lon (-161.800) and Lat (60.780) does not exist in GOES-16 projection.\n",
      "7 Central Lon (-155.620) and Lat (62.970) does not exist in GOES-16 projection.\n",
      "8 Central Lon (-147.870) and Lat (64.820) does not exist in GOES-16 projection.\n",
      "9 Central Lon (-147.870) and Lat (64.820) does not exist in GOES-16 projection.\n",
      "10 Central Lon (-150.020) and Lat (61.170) does not exist in GOES-16 projection.\n",
      "11 Central Lon (-150.020) and Lat (61.170) does not exist in GOES-16 projection.\n",
      "12 Central Lon (-170.220) and Lat (57.150) does not exist in GOES-16 projection.\n",
      "13 Central Lon (-162.720) and Lat (55.200) does not exist in GOES-16 projection.\n",
      "14 Central Lon (-162.720) and Lat (55.200) does not exist in GOES-16 projection.\n",
      "15 Central Lon (-152.480) and Lat (57.750) does not exist in GOES-16 projection.\n",
      "16 Central Lon (-152.480) and Lat (57.750) does not exist in GOES-16 projection.\n",
      "17 Central Lon (-139.670) and Lat (59.520) does not exist in GOES-16 projection.\n",
      "18 Central Lon (-139.670) and Lat (59.520) does not exist in GOES-16 projection.\n",
      "19 Central Lon (-131.570) and Lat (55.030) does not exist in GOES-16 projection.\n",
      "20 Central Lon (-131.570) and Lat (55.030) does not exist in GOES-16 projection.\n",
      "21 Central Lon (174.100) and Lat (52.720) does not exist in GOES-16 projection.\n",
      "22 Central Lon (174.100) and Lat (52.720) does not exist in GOES-16 projection.\n",
      "23 Central Lon (-81.750) and Lat (24.550) does not exist in GOES-16 projection.\n",
      "24 Central Lon (-81.750) and Lat (24.550) does not exist in GOES-16 projection.\n",
      "runtime: 0.4579479694366455\n"
     ]
    },
    {
     "data": {
      "text/plain": [
       "0"
      ]
     },
     "execution_count": 7,
     "metadata": {},
     "output_type": "execute_result"
    }
   ],
   "source": [
    "# Iterative soln to only read a single days \n",
    "# worth of goes abi for a given sonde\n",
    "im.extract_abi_patches(vol + 'radiosonde/US_25Jun2019.cdf', vol + 'goes', vol + 'processed',\n",
    "                       patch_x_length_pixels=28, patch_y_length_pixels=28,\n",
    "                       time_range_minutes=5, bt=False)"
   ]
  },
  {
   "cell_type": "code",
   "execution_count": 5,
   "metadata": {},
   "outputs": [
    {
     "name": "stdout",
     "output_type": "stream",
     "text": [
      "2019-06-24T20:34:00.000000000\n"
     ]
    }
   ],
   "source": [
    "fin = vol + '/raobs/arm-sgp/2019/sgpsondewnpnC1.b1.20190624.203400.cdf'\n",
    "raob = xr.open_dataset(fin)\n",
    "date = raob.time.values[0]\n",
    "# raob.close()\n",
    "\n",
    "print(date)"
   ]
  },
  {
   "cell_type": "code",
   "execution_count": 20,
   "metadata": {},
   "outputs": [
    {
     "data": {
      "text/plain": [
       "(-2, -4)"
      ]
     },
     "execution_count": 20,
     "metadata": {},
     "output_type": "execute_result"
    }
   ],
   "source": [
    "1088- 1090, 1087- 1091"
   ]
  },
  {
   "cell_type": "code",
   "execution_count": 29,
   "metadata": {},
   "outputs": [],
   "source": [
    "center_lon, center_lat = -109.6825, 23.3666\n",
    "x_size_pixels, y_size_pixels = 3, 3\n",
    "\n",
    "goes16 = im.GOES16ABI(vol + 'goes16', date)\n",
    "patch, lons, lats = goes16.extract_image_patch(center_lon, center_lat, x_size_pixels, y_size_pixels, bt=False)"
   ]
  },
  {
   "cell_type": "code",
   "execution_count": 30,
   "metadata": {},
   "outputs": [
    {
     "data": {
      "image/png": "[encoded data removed]",
      "text/plain": [
       "<Figure size 648x504 with 8 Axes>"
      ]
     },
     "metadata": {
      "image/png": {
       "height": 449,
       "width": 640
      },
      "needs_background": "light"
     },
     "output_type": "display_data"
    }
   ],
   "source": [
    "index = 0\n",
    "vmin = patch[index,:,:,:].min() # set min/max plotting range  \n",
    "vmax = patch[index,:,:,:].max()\n",
    "\n",
    "fig, axs = plt.subplots(2, 4, figsize=(9,7))\n",
    "[axi.set_axis_off() for axi in axs.ravel()]\n",
    "r = 0\n",
    "for i in range(8):\n",
    "    if i >= 4: r = 1\n",
    "    axs[r, i % 4].imshow(patch[index,i,:,:], vmin=vmin, vmax=vmax)\n",
    "    plt.suptitle('Exmaple Patch', fontsize=20)\n",
    "    axs[r, i % 4].set_title(f'ch, {str(goes16.bands[i])}')\n",
    "fig.tight_layout()"
   ]
  },
  {
   "cell_type": "code",
   "execution_count": 3,
   "metadata": {
    "scrolled": false
   },
   "outputs": [
    {
     "name": "stdout",
     "output_type": "stream",
     "text": [
      "0 Invalid sounding time: 2019-06-24 23:01:00+00:00 lon: -156.780 lat: 71.300\n",
      "1 Invalid sounding time: 2019-06-25 05:30:00+00:00 lon: -156.780 lat: 71.300\n",
      "2 Invalid sounding time: 2019-06-25 11:01:00+00:00 lon: -156.780 lat: 71.300\n",
      "3 Invalid sounding time: 2019-06-25 17:30:00+00:00 lon: -156.780 lat: 71.300\n",
      "4 Invalid sounding time: 2019-06-24 23:27:00+00:00 lon: -165.430 lat: 64.500\n",
      "5 Invalid sounding time: 2019-06-24 23:01:00+00:00 lon: -161.800 lat: 60.780\n",
      "6 Invalid sounding time: 2019-06-25 11:01:00+00:00 lon: -161.800 lat: 60.780\n",
      "7 Invalid sounding time: 2019-06-24 23:09:00+00:00 lon: -155.620 lat: 62.970\n",
      "8 Invalid sounding time: 2019-06-24 23:02:00+00:00 lon: -147.870 lat: 64.820\n",
      "9 Invalid sounding time: 2019-06-25 11:03:00+00:00 lon: -147.870 lat: 64.820\n",
      "10 Invalid sounding time: 2019-06-24 23:03:00+00:00 lon: -150.020 lat: 61.170\n",
      "11 Invalid sounding time: 2019-06-25 11:02:00+00:00 lon: -150.020 lat: 61.170\n",
      "12 Invalid sounding time: 2019-06-24 23:50:00+00:00 lon: -170.220 lat: 57.150\n",
      "13 Invalid sounding time: 2019-06-24 23:02:00+00:00 lon: -162.720 lat: 55.200\n",
      "14 Invalid sounding time: 2019-06-25 11:07:00+00:00 lon: -162.720 lat: 55.200\n",
      "15 Invalid sounding time: 2019-06-24 23:01:00+00:00 lon: -152.480 lat: 57.750\n",
      "16 Invalid sounding time: 2019-06-25 11:01:00+00:00 lon: -152.480 lat: 57.750\n",
      "17 Invalid sounding time: 2019-06-24 23:01:00+00:00 lon: -139.670 lat: 59.520\n",
      "18 Invalid sounding time: 2019-06-25 11:01:00+00:00 lon: -139.670 lat: 59.520\n",
      "19 Invalid sounding time: 2019-06-24 23:01:00+00:00 lon: -131.570 lat: 55.030\n",
      "20 Invalid sounding time: 2019-06-25 11:01:00+00:00 lon: -131.570 lat: 55.030\n",
      "21 Invalid sounding time: 2019-06-24 23:36:00+00:00 lon: 174.100 lat: 52.720\n",
      "22 Invalid sounding time: 2019-06-25 11:18:00+00:00 lon: 174.100 lat: 52.720\n",
      "23 Invalid sounding time: 2019-06-24 23:01:00+00:00 lon: -81.750 lat: 24.550\n",
      "24 Invalid sounding time: 2019-06-25 11:02:00+00:00 lon: -81.750 lat: 24.550\n",
      "159 Invalid sounding time: 1970-01-02 03:46:39+00:00 lon: -80.550 lat: 28.480\n",
      "160 Invalid sounding time: 1970-01-02 03:46:39+00:00 lon: -80.550 lat: 28.480\n",
      "161 Invalid sounding time: 1970-01-02 03:46:39+00:00 lon: -80.550 lat: 28.480\n",
      "162 Invalid sounding time: 1970-01-02 03:46:39+00:00 lon: -80.550 lat: 28.480\n",
      "163 Invalid sounding time: 2019-06-24 23:02:00+00:00 lon: -66.000 lat: 18.430\n",
      "164 Invalid sounding time: 2019-06-25 11:04:00+00:00 lon: -66.000 lat: 18.430\n",
      "165 Invalid sounding time: 2019-06-24 22:05:00+00:00 lon: -0.000 lat: -90.000\n",
      "166 Invalid sounding time: 2019-06-25 10:58:00+00:00 lon: -0.000 lat: -90.000\n",
      "167 Invalid sounding time: 2019-06-24 23:19:00+00:00 lon: 166.670 lat: -77.850\n",
      "168 Invalid sounding time: 2019-06-24 23:27:00+00:00 lon: -159.350 lat: 21.980\n",
      "169 Invalid sounding time: 2019-06-25 11:56:00+00:00 lon: -159.350 lat: 21.980\n",
      "170 Invalid sounding time: 2019-06-24 23:06:00+00:00 lon: -155.070 lat: 19.720\n",
      "171 Invalid sounding time: 2019-06-25 11:20:00+00:00 lon: -155.070 lat: 19.720\n",
      "runtime: 21.74016833305359\n"
     ]
    }
   ],
   "source": [
    "# process all of the soundings for the \n",
    "sonde_config = {'sonde_profile_dims': 256}\n",
    "goes_config = {'bands': np.array([8, 9, 10, 11, 13, 14, 15, 16]), \n",
    "              'patch_x_length_pixels': 28,\n",
    "              'patch_y_length_pixels': 28,\n",
    "              'abi_path': vol + 'goes',\n",
    "              'time_range_minutes': 5,\n",
    "              'bt': False}\n",
    "preprocess.set_configs(sonde_config, goes_config)\n",
    "preprocess.extract_all_information(vol)"
   ]
  },
  {
   "cell_type": "code",
   "execution_count": 8,
   "metadata": {},
   "outputs": [],
   "source": [
    "xar = xr.open_dataset(vol + '/processed/abi_patches_TEST.nc')"
   ]
  },
  {
   "cell_type": "code",
   "execution_count": 11,
   "metadata": {},
   "outputs": [
    {
     "data": {
      "text/plain": [
       "(1, 8, 28, 28)"
      ]
     },
     "execution_count": 11,
     "metadata": {},
     "output_type": "execute_result"
    }
   ],
   "source": [
    "xar.abi.values.shape"
   ]
  },
  {
   "cell_type": "code",
   "execution_count": 4,
   "metadata": {},
   "outputs": [
    {
     "data": {
      "image/png": "[encoded data removed]",
      "text/plain": [
       "<Figure size 648x504 with 8 Axes>"
      ]
     },
     "metadata": {
      "image/png": {
       "height": 441,
       "width": 640
      },
      "needs_background": "light"
     },
     "output_type": "display_data"
    }
   ],
   "source": [
    "patch = xar.goes_abi.values\n",
    "index = 1\n",
    "vmin = patch[index,:,:,:].min() # set min/max plotting range  \n",
    "vmax = patch[index,:,:,:].max()\n",
    "\n",
    "fig, axs = plt.subplots(2, 4, figsize=(9,7))\n",
    "[axi.set_axis_off() for axi in axs.ravel()]\n",
    "r = 0\n",
    "for i in range(8):\n",
    "    if i >= 4: r = 1\n",
    "    axs[r, i % 4].imshow(patch[index,i,:,:], vmin=vmin, vmax=vmax)\n",
    "    plt.suptitle('Exmaple Patch', fontsize=20)\n",
    "    axs[r, i % 4].set_title(f'ch, {str(xar.band.values[i])}')\n",
    "fig.tight_layout()"
   ]
  },
  {
   "cell_type": "markdown",
   "metadata": {},
   "source": [
    "# RTMA"
   ]
  },
  {
   "cell_type": "code",
   "execution_count": 5,
   "metadata": {},
   "outputs": [
    {
     "name": "stdout",
     "output_type": "stream",
     "text": [
      "2019-06-24T20:34:00.000000000\n"
     ]
    }
   ],
   "source": [
    "fin = vol + 'raobs/arm-sgp/2019/sgpsondewnpnC1.b1.20190624.203400.cdf'\n",
    "raob = xr.open_dataset(fin)\n",
    "date = raob.time.values[0]\n",
    "raob.close()\n",
    "\n",
    "print(date)"
   ]
  },
  {
   "cell_type": "code",
   "execution_count": 6,
   "metadata": {},
   "outputs": [
    {
     "data": {
      "text/plain": [
       "'sgp'"
      ]
     },
     "execution_count": 6,
     "metadata": {},
     "output_type": "execute_result"
    }
   ],
   "source": [
    "raob.site_id"
   ]
  },
  {
   "cell_type": "code",
   "execution_count": 17,
   "metadata": {},
   "outputs": [],
   "source": [
    "center_lon, center_lat = -109.6825, 23.3666\n",
    "x_size_pixels, y_size_pixels = 100, 100\n",
    "\n",
    "rtma = rtmaloader.RTMALoader(vol + 'rtma', date, rtma_types=np.array(['LRI']))\n",
    "\n",
    "patch, lons, lats = rtma.extract_image_patch(center_lon, center_lat, x_size_pixels, y_size_pixels)"
   ]
  },
  {
   "cell_type": "code",
   "execution_count": 18,
   "metadata": {},
   "outputs": [
    {
     "data": {
      "image/png": "[encoded data removed]",
      "text/plain": [
       "<Figure size 648x324 with 4 Axes>"
      ]
     },
     "metadata": {
      "image/png": {
       "height": 321,
       "width": 634
      },
      "needs_background": "light"
     },
     "output_type": "display_data"
    }
   ],
   "source": [
    "index = 0\n",
    "vmin = patch[index,:,:,:].min() # set min/max plotting range  \n",
    "vmax = patch[index,:,:,:].max()\n",
    "\n",
    "fig, axs = plt.subplots(1, 3, figsize=(9, 4.5))\n",
    "[axi.set_axis_off() for axi in axs.ravel()]\n",
    "for i in range(3):\n",
    "    im = axs[i].imshow(patch[index,i,:,:], vmin=vmin, vmax=vmax)\n",
    "    plt.colorbar(im)\n",
    "    plt.suptitle('Exmaple Patch', fontsize=20)\n",
    "    axs[i].set_title(f'{str(rtma.rtma_types[i])}')\n",
    "    break\n",
    "fig.tight_layout()"
   ]
  },
  {
   "cell_type": "markdown",
   "metadata": {},
   "source": [
    "# NWP RAP"
   ]
  },
  {
   "cell_type": "code",
   "execution_count": 4,
   "metadata": {},
   "outputs": [],
   "source": [
    "date = pd.Timestamp('2020-01-02T20:34:00.000000000', tz='UTC')\n",
    "\n",
    "rap = raploader.RAPLoader('/mnt/data1/stock/mlsoundings/rap', date)\n",
    "wgrib2 = '/home/stock/bin/grib2/wgrib2/wgrib2'\n",
    "\n",
    "center_lon, center_lat = -109.6825, 23.3666\n",
    "pres, temp, spec, height, lon, lat = rap.extract_rap_profile(center_lon, center_lat, wgrib2)"
   ]
  },
  {
   "cell_type": "code",
   "execution_count": 5,
   "metadata": {},
   "outputs": [
    {
     "data": {
      "text/plain": [
       "((50,), (50,), (50,), (50,), 250.380746, 23.36632)"
      ]
     },
     "execution_count": 5,
     "metadata": {},
     "output_type": "execute_result"
    }
   ],
   "source": [
    "pres.shape, temp.shape, spec.shape, height.shape, lon, lat"
   ]
  },
  {
   "cell_type": "code",
   "execution_count": 6,
   "metadata": {},
   "outputs": [
    {
     "data": {
      "text/plain": [
       "[<matplotlib.lines.Line2D at 0x7f1817d139a0>]"
      ]
     },
     "execution_count": 6,
     "metadata": {},
     "output_type": "execute_result"
    },
    {
     "data": {
      "image/png": "[encoded data removed]",
      "text/plain": [
       "<Figure size 432x288 with 1 Axes>"
      ]
     },
     "metadata": {
      "image/png": {
       "height": 248,
       "width": 388
      },
      "needs_background": "light"
     },
     "output_type": "display_data"
    }
   ],
   "source": [
    "plt.plot(height)"
   ]
  },
  {
   "cell_type": "markdown",
   "metadata": {},
   "source": [
    "# Preprocessor"
   ]
  },
  {
   "cell_type": "code",
   "execution_count": null,
   "metadata": {},
   "outputs": [
    {
     "name": "stdout",
     "output_type": "stream",
     "text": [
      "ERROR: No RAP files within 60 minutes of 2020-02-11 23:29:00. Nearest file is within inf minutes\n",
      "ERROR: No RAP files within 60 minutes of 2020-05-18 11:27:00. Nearest file is within inf minutes\n",
      "ERROR: No GOES-16 files within 10 minutes of 2020-06-11 17:31:00. Nearest file is within inf minutes\n",
      "ERROR: No RAP files within 60 minutes of 2020-03-17 05:31:00. Nearest file is within inf minutes\n",
      "ERROR: No RAP files within 60 minutes of 2020-03-08 05:30:00. Nearest file is within inf minutes\n",
      "ERROR: No RAP files within 60 minutes of 2020-03-10 11:28:00. Nearest file is within inf minutes\n",
      "ERROR: No GOES-16 files within 10 minutes of 2020-06-13 11:30:00. Nearest file is within inf minutes\n",
      "ERROR: No RAP files within 60 minutes of 2020-03-01 23:34:00. Nearest file is within inf minutes\n",
      "ERROR: No RAP files within 60 minutes of 2020-03-11 05:32:00. Nearest file is within inf minutes\n",
      "/mnt/data1/stock/mlsoundings/processed/sgp_2020_01_02_0533.nc\n",
      "ERROR: No RAP files within 60 minutes of 2020-02-16 11:36:00. Nearest file is within inf minutes\n",
      "ERROR: No RAP files within 60 minutes of 2020-02-19 17:32:00. Nearest file is within inf minutes\n",
      "ERROR: No RAP files within 60 minutes of 2020-03-09 23:33:00. Nearest file is within inf minutes\n",
      "ERROR: No RAP files within 60 minutes of 2020-05-20 23:31:00. Nearest file is within inf minutes\n",
      "ERROR: No GOES-16 files within 10 minutes of 2020-06-13 23:30:00. Nearest file is within inf minutes\n",
      "ERROR: No RAP files within 60 minutes of 2020-03-04 05:31:00. Nearest file is within inf minutes\n",
      "ERROR: No GOES-16 files within 10 minutes of 2020-07-04 17:35:00. Nearest file is within inf minutes\n",
      "/mnt/data1/stock/mlsoundings/processed/sgp_2020_01_09_2330.nc\n",
      "ERROR: No RAP files within 60 minutes of 2020-02-29 17:28:00. Nearest file is within inf minutes\n",
      "ERROR: No RAP files within 60 minutes of 2020-03-21 05:40:00. Nearest file is within inf minutes\n",
      "ERROR: No GOES-16 files within 10 minutes of 2020-06-16 23:34:00. Nearest file is within inf minutes\n",
      "ERROR: No RAP files within 60 minutes of 2020-05-21 23:30:00. Nearest file is within inf minutes\n",
      "ERROR: No RAP files within 60 minutes of 2020-02-15 11:33:00. Nearest file is within inf minutes\n",
      "ERROR: No RAP files within 60 minutes of 2020-02-13 17:32:00. Nearest file is within inf minutes\n",
      "ERROR: No GOES-16 files within 10 minutes of 2020-07-04 23:26:00. Nearest file is within inf minutes\n",
      "ERROR: No RAP files within 60 minutes of 2020-05-18 05:23:00. Nearest file is within inf minutes\n",
      "/mnt/data1/stock/mlsoundings/processed/sgp_2020_02_07_2330.nc\n",
      "ERROR: No RAP files within 60 minutes of 2020-05-29 17:35:00. Nearest file is within inf minutes\n"
     ]
    }
   ],
   "source": [
    "# process all of the soundings for the \n",
    "preprocess.main('/home/stock/research/cira-ml-soundings/soundings/preprocessing/config.yaml')"
   ]
  },
  {
   "cell_type": "code",
   "execution_count": 9,
   "metadata": {},
   "outputs": [
    {
     "data": {
      "text/html": [
       "<div><svg style=\"position: absolute; width: 0; height: 0; overflow: hidden\">\n",
       "<defs>\n",
       "<symbol id=\"icon-database\" viewBox=\"0 0 32 32\">\n",
       "<path d=\"M16 0c-8.837 0-16 2.239-16 5v4c0 2.761 7.163 5 16 5s16-2.239 16-5v-4c0-2.761-7.163-5-16-5z\"></path>\n",
       "<path d=\"M16 17c-8.837 0-16-2.239-16-5v6c0 2.761 7.163 5 16 5s16-2.239 16-5v-6c0 2.761-7.163 5-16 5z\"></path>\n",
       "<path d=\"M16 26c-8.837 0-16-2.239-16-5v6c0 2.761 7.163 5 16 5s16-2.239 16-5v-6c0 2.761-7.163 5-16 5z\"></path>\n",
       "</symbol>\n",
       "<symbol id=\"icon-file-text2\" viewBox=\"0 0 32 32\">\n",
       "<path d=\"M28.681 7.159c-0.694-0.947-1.662-2.053-2.724-3.116s-2.169-2.030-3.116-2.724c-1.612-1.182-2.393-1.319-2.841-1.319h-15.5c-1.378 0-2.5 1.121-2.5 2.5v27c0 1.378 1.122 2.5 2.5 2.5h23c1.378 0 2.5-1.122 2.5-2.5v-19.5c0-0.448-0.137-1.23-1.319-2.841zM24.543 5.457c0.959 0.959 1.712 1.825 2.268 2.543h-4.811v-4.811c0.718 0.556 1.584 1.309 2.543 2.268zM28 29.5c0 0.271-0.229 0.5-0.5 0.5h-23c-0.271 0-0.5-0.229-0.5-0.5v-27c0-0.271 0.229-0.5 0.5-0.5 0 0 15.499-0 15.5 0v7c0 0.552 0.448 1 1 1h7v19.5z\"></path>\n",
       "<path d=\"M23 26h-14c-0.552 0-1-0.448-1-1s0.448-1 1-1h14c0.552 0 1 0.448 1 1s-0.448 1-1 1z\"></path>\n",
       "<path d=\"M23 22h-14c-0.552 0-1-0.448-1-1s0.448-1 1-1h14c0.552 0 1 0.448 1 1s-0.448 1-1 1z\"></path>\n",
       "<path d=\"M23 18h-14c-0.552 0-1-0.448-1-1s0.448-1 1-1h14c0.552 0 1 0.448 1 1s-0.448 1-1 1z\"></path>\n",
       "</symbol>\n",
       "</defs>\n",
       "</svg>\n",
       "<style>/* CSS stylesheet for displaying xarray objects in jupyterlab.\n",
       " *\n",
       " */\n",
       "\n",
       ":root {\n",
       "  --xr-font-color0: var(--jp-content-font-color0, rgba(0, 0, 0, 1));\n",
       "  --xr-font-color2: var(--jp-content-font-color2, rgba(0, 0, 0, 0.54));\n",
       "  --xr-font-color3: var(--jp-content-font-color3, rgba(0, 0, 0, 0.38));\n",
       "  --xr-border-color: var(--jp-border-color2, #e0e0e0);\n",
       "  --xr-disabled-color: var(--jp-layout-color3, #bdbdbd);\n",
       "  --xr-background-color: var(--jp-layout-color0, white);\n",
       "  --xr-background-color-row-even: var(--jp-layout-color1, white);\n",
       "  --xr-background-color-row-odd: var(--jp-layout-color2, #eeeeee);\n",
       "}\n",
       "\n",
       "html[theme=dark],\n",
       "body.vscode-dark {\n",
       "  --xr-font-color0: rgba(255, 255, 255, 1);\n",
       "  --xr-font-color2: rgba(255, 255, 255, 0.54);\n",
       "  --xr-font-color3: rgba(255, 255, 255, 0.38);\n",
       "  --xr-border-color: #1F1F1F;\n",
       "  --xr-disabled-color: #515151;\n",
       "  --xr-background-color: #111111;\n",
       "  --xr-background-color-row-even: #111111;\n",
       "  --xr-background-color-row-odd: #313131;\n",
       "}\n",
       "\n",
       ".xr-wrap {\n",
       "  display: block;\n",
       "  min-width: 300px;\n",
       "  max-width: 700px;\n",
       "}\n",
       "\n",
       ".xr-text-repr-fallback {\n",
       "  /* fallback to plain text repr when CSS is not injected (untrusted notebook) */\n",
       "  display: none;\n",
       "}\n",
       "\n",
       ".xr-header {\n",
       "  padding-top: 6px;\n",
       "  padding-bottom: 6px;\n",
       "  margin-bottom: 4px;\n",
       "  border-bottom: solid 1px var(--xr-border-color);\n",
       "}\n",
       "\n",
       ".xr-header > div,\n",
       ".xr-header > ul {\n",
       "  display: inline;\n",
       "  margin-top: 0;\n",
       "  margin-bottom: 0;\n",
       "}\n",
       "\n",
       ".xr-obj-type,\n",
       ".xr-array-name {\n",
       "  margin-left: 2px;\n",
       "  margin-right: 10px;\n",
       "}\n",
       "\n",
       ".xr-obj-type {\n",
       "  color: var(--xr-font-color2);\n",
       "}\n",
       "\n",
       ".xr-sections {\n",
       "  padding-left: 0 !important;\n",
       "  display: grid;\n",
       "  grid-template-columns: 150px auto auto 1fr 20px 20px;\n",
       "}\n",
       "\n",
       ".xr-section-item {\n",
       "  display: contents;\n",
       "}\n",
       "\n",
       ".xr-section-item input {\n",
       "  display: none;\n",
       "}\n",
       "\n",
       ".xr-section-item input + label {\n",
       "  color: var(--xr-disabled-color);\n",
       "}\n",
       "\n",
       ".xr-section-item input:enabled + label {\n",
       "  cursor: pointer;\n",
       "  color: var(--xr-font-color2);\n",
       "}\n",
       "\n",
       ".xr-section-item input:enabled + label:hover {\n",
       "  color: var(--xr-font-color0);\n",
       "}\n",
       "\n",
       ".xr-section-summary {\n",
       "  grid-column: 1;\n",
       "  color: var(--xr-font-color2);\n",
       "  font-weight: 500;\n",
       "}\n",
       "\n",
       ".xr-section-summary > span {\n",
       "  display: inline-block;\n",
       "  padding-left: 0.5em;\n",
       "}\n",
       "\n",
       ".xr-section-summary-in:disabled + label {\n",
       "  color: var(--xr-font-color2);\n",
       "}\n",
       "\n",
       ".xr-section-summary-in + label:before {\n",
       "  display: inline-block;\n",
       "  content: '►';\n",
       "  font-size: 11px;\n",
       "  width: 15px;\n",
       "  text-align: center;\n",
       "}\n",
       "\n",
       ".xr-section-summary-in:disabled + label:before {\n",
       "  color: var(--xr-disabled-color);\n",
       "}\n",
       "\n",
       ".xr-section-summary-in:checked + label:before {\n",
       "  content: '▼';\n",
       "}\n",
       "\n",
       ".xr-section-summary-in:checked + label > span {\n",
       "  display: none;\n",
       "}\n",
       "\n",
       ".xr-section-summary,\n",
       ".xr-section-inline-details {\n",
       "  padding-top: 4px;\n",
       "  padding-bottom: 4px;\n",
       "}\n",
       "\n",
       ".xr-section-inline-details {\n",
       "  grid-column: 2 / -1;\n",
       "}\n",
       "\n",
       ".xr-section-details {\n",
       "  display: none;\n",
       "  grid-column: 1 / -1;\n",
       "  margin-bottom: 5px;\n",
       "}\n",
       "\n",
       ".xr-section-summary-in:checked ~ .xr-section-details {\n",
       "  display: contents;\n",
       "}\n",
       "\n",
       ".xr-array-wrap {\n",
       "  grid-column: 1 / -1;\n",
       "  display: grid;\n",
       "  grid-template-columns: 20px auto;\n",
       "}\n",
       "\n",
       ".xr-array-wrap > label {\n",
       "  grid-column: 1;\n",
       "  vertical-align: top;\n",
       "}\n",
       "\n",
       ".xr-preview {\n",
       "  color: var(--xr-font-color3);\n",
       "}\n",
       "\n",
       ".xr-array-preview,\n",
       ".xr-array-data {\n",
       "  padding: 0 5px !important;\n",
       "  grid-column: 2;\n",
       "}\n",
       "\n",
       ".xr-array-data,\n",
       ".xr-array-in:checked ~ .xr-array-preview {\n",
       "  display: none;\n",
       "}\n",
       "\n",
       ".xr-array-in:checked ~ .xr-array-data,\n",
       ".xr-array-preview {\n",
       "  display: inline-block;\n",
       "}\n",
       "\n",
       ".xr-dim-list {\n",
       "  display: inline-block !important;\n",
       "  list-style: none;\n",
       "  padding: 0 !important;\n",
       "  margin: 0;\n",
       "}\n",
       "\n",
       ".xr-dim-list li {\n",
       "  display: inline-block;\n",
       "  padding: 0;\n",
       "  margin: 0;\n",
       "}\n",
       "\n",
       ".xr-dim-list:before {\n",
       "  content: '(';\n",
       "}\n",
       "\n",
       ".xr-dim-list:after {\n",
       "  content: ')';\n",
       "}\n",
       "\n",
       ".xr-dim-list li:not(:last-child):after {\n",
       "  content: ',';\n",
       "  padding-right: 5px;\n",
       "}\n",
       "\n",
       ".xr-has-index {\n",
       "  font-weight: bold;\n",
       "}\n",
       "\n",
       ".xr-var-list,\n",
       ".xr-var-item {\n",
       "  display: contents;\n",
       "}\n",
       "\n",
       ".xr-var-item > div,\n",
       ".xr-var-item label,\n",
       ".xr-var-item > .xr-var-name span {\n",
       "  background-color: var(--xr-background-color-row-even);\n",
       "  margin-bottom: 0;\n",
       "}\n",
       "\n",
       ".xr-var-item > .xr-var-name:hover span {\n",
       "  padding-right: 5px;\n",
       "}\n",
       "\n",
       ".xr-var-list > li:nth-child(odd) > div,\n",
       ".xr-var-list > li:nth-child(odd) > label,\n",
       ".xr-var-list > li:nth-child(odd) > .xr-var-name span {\n",
       "  background-color: var(--xr-background-color-row-odd);\n",
       "}\n",
       "\n",
       ".xr-var-name {\n",
       "  grid-column: 1;\n",
       "}\n",
       "\n",
       ".xr-var-dims {\n",
       "  grid-column: 2;\n",
       "}\n",
       "\n",
       ".xr-var-dtype {\n",
       "  grid-column: 3;\n",
       "  text-align: right;\n",
       "  color: var(--xr-font-color2);\n",
       "}\n",
       "\n",
       ".xr-var-preview {\n",
       "  grid-column: 4;\n",
       "}\n",
       "\n",
       ".xr-var-name,\n",
       ".xr-var-dims,\n",
       ".xr-var-dtype,\n",
       ".xr-preview,\n",
       ".xr-attrs dt {\n",
       "  white-space: nowrap;\n",
       "  overflow: hidden;\n",
       "  text-overflow: ellipsis;\n",
       "  padding-right: 10px;\n",
       "}\n",
       "\n",
       ".xr-var-name:hover,\n",
       ".xr-var-dims:hover,\n",
       ".xr-var-dtype:hover,\n",
       ".xr-attrs dt:hover {\n",
       "  overflow: visible;\n",
       "  width: auto;\n",
       "  z-index: 1;\n",
       "}\n",
       "\n",
       ".xr-var-attrs,\n",
       ".xr-var-data {\n",
       "  display: none;\n",
       "  background-color: var(--xr-background-color) !important;\n",
       "  padding-bottom: 5px !important;\n",
       "}\n",
       "\n",
       ".xr-var-attrs-in:checked ~ .xr-var-attrs,\n",
       ".xr-var-data-in:checked ~ .xr-var-data {\n",
       "  display: block;\n",
       "}\n",
       "\n",
       ".xr-var-data > table {\n",
       "  float: right;\n",
       "}\n",
       "\n",
       ".xr-var-name span,\n",
       ".xr-var-data,\n",
       ".xr-attrs {\n",
       "  padding-left: 25px !important;\n",
       "}\n",
       "\n",
       ".xr-attrs,\n",
       ".xr-var-attrs,\n",
       ".xr-var-data {\n",
       "  grid-column: 1 / -1;\n",
       "}\n",
       "\n",
       "dl.xr-attrs {\n",
       "  padding: 0;\n",
       "  margin: 0;\n",
       "  display: grid;\n",
       "  grid-template-columns: 125px auto;\n",
       "}\n",
       "\n",
       ".xr-attrs dt, dd {\n",
       "  padding: 0;\n",
       "  margin: 0;\n",
       "  float: left;\n",
       "  padding-right: 10px;\n",
       "  width: auto;\n",
       "}\n",
       "\n",
       ".xr-attrs dt {\n",
       "  font-weight: normal;\n",
       "  grid-column: 1;\n",
       "}\n",
       "\n",
       ".xr-attrs dt:hover span {\n",
       "  display: inline-block;\n",
       "  background: var(--xr-background-color);\n",
       "  padding-right: 10px;\n",
       "}\n",
       "\n",
       ".xr-attrs dd {\n",
       "  grid-column: 2;\n",
       "  white-space: pre-wrap;\n",
       "  word-break: break-all;\n",
       "}\n",
       "\n",
       ".xr-icon-database,\n",
       ".xr-icon-file-text2 {\n",
       "  display: inline-block;\n",
       "  vertical-align: middle;\n",
       "  width: 1em;\n",
       "  height: 1.5em !important;\n",
       "  stroke-width: 0;\n",
       "  stroke: currentColor;\n",
       "  fill: currentColor;\n",
       "}\n",
       "</style><pre class='xr-text-repr-fallback'>&lt;xarray.Dataset&gt;\n",
       "Dimensions:         (band: 8, goes_x: 28, goes_y: 28, nwp_dims: 50, profile_dims: 2048, rtma_type: 3, rtma_x: 28, rtma_y: 28)\n",
       "Coordinates:\n",
       "  * goes_y          (goes_y) int64 0 1 2 3 4 5 6 7 8 ... 20 21 22 23 24 25 26 27\n",
       "  * goes_x          (goes_x) int64 0 1 2 3 4 5 6 7 8 ... 20 21 22 23 24 25 26 27\n",
       "  * band            (band) int64 8 9 10 11 13 14 15 16\n",
       "  * rtma_y          (rtma_y) int64 0 1 2 3 4 5 6 7 8 ... 20 21 22 23 24 25 26 27\n",
       "  * rtma_x          (rtma_x) int64 0 1 2 3 4 5 6 7 8 ... 20 21 22 23 24 25 26 27\n",
       "  * rtma_type       (rtma_type) object &#x27;LPI&#x27; &#x27;LRI&#x27; &#x27;LTI&#x27;\n",
       "  * profile_dims    (profile_dims) int64 0 1 2 3 4 ... 2043 2044 2045 2046 2047\n",
       "  * nwp_dims        (nwp_dims) int64 0 1 2 3 4 5 6 7 ... 42 43 44 45 46 47 48 49\n",
       "Data variables:\n",
       "    sonde_rel_time  datetime64[ns] 2020-01-02T05:33:00\n",
       "    sonde_file      &lt;U85 &#x27;/mnt/data1/stock/mlsoundings/raobs/arm-sgp/2020/sgp...\n",
       "    sonde_pres      (profile_dims) float64 963.6 962.6 961.5 ... 75.68 75.58\n",
       "    sonde_tdry      (profile_dims) float64 4.9 6.12 7.444 ... -63.65 -63.72\n",
       "    sonde_dp        (profile_dims) float64 2.76 3.326 3.864 ... -88.96 -89.0\n",
       "    sonde_alt       (profile_dims) float64 314.8 323.4 ... 1.799e+04 1.8e+04\n",
       "    nwp_file        &lt;U55 &#x27;/mnt/data1/stock/mlsoundings/rap/20200102/200020600...\n",
       "    nwp_lon         &lt;U55 &#x27;/mnt/data1/stock/mlsoundings/rap/20200102/200020600...\n",
       "    nwp_lat         &lt;U55 &#x27;/mnt/data1/stock/mlsoundings/rap/20200102/200020600...\n",
       "    nwp_pres        (nwp_dims) float64 9.622e+04 9.593e+04 ... 1.233e+03\n",
       "    nwp_tdry        (nwp_dims) float64 278.0 280.4 281.3 ... 219.2 220.7 222.8\n",
       "    nwp_spfm        (nwp_dims) float64 0.004839 0.005155 ... 4.43e-06 3.821e-06\n",
       "    nwp_alt         (nwp_dims) float64 326.6 354.2 402.7 ... 2.738e+04 2.958e+04\n",
       "    goes_files      (band) object &#x27;/mnt/mlnas01/mlsoundings/goes16/2020/l1b/2...\n",
       "    goes_abi        (band, goes_y, goes_x) float32 2.8587909 ... 64.83209\n",
       "    goes_lon        (goes_y, goes_x) float64 -97.98 -97.96 ... -97.04 -97.02\n",
       "    goes_lat        (goes_y, goes_x) float64 36.99 36.98 36.98 ... 36.26 36.26\n",
       "    rtma_files      (rtma_type) object &#x27;/mnt/mlnas01/mlsoundings/rtma/lpi/202...\n",
       "    rtma_values     (rtma_type, rtma_y, rtma_x) float32 95726.0 ... 279.94\n",
       "    rtma_lon        (rtma_y, rtma_x) float64 -97.89 -97.86 ... -97.15 -97.13\n",
       "    rtma_lat        (rtma_y, rtma_x) float64 36.91 36.91 36.91 ... 36.32 36.32</pre><div class='xr-wrap' hidden><div class='xr-header'><div class='xr-obj-type'>xarray.Dataset</div></div><ul class='xr-sections'><li class='xr-section-item'><input id='section-fa864c5b-2001-4916-89fa-5dd4039b568a' class='xr-section-summary-in' type='checkbox' disabled ><label for='section-fa864c5b-2001-4916-89fa-5dd4039b568a' class='xr-section-summary'  title='Expand/collapse section'>Dimensions:</label><div class='xr-section-inline-details'><ul class='xr-dim-list'><li><span class='xr-has-index'>band</span>: 8</li><li><span class='xr-has-index'>goes_x</span>: 28</li><li><span class='xr-has-index'>goes_y</span>: 28</li><li><span class='xr-has-index'>nwp_dims</span>: 50</li><li><span class='xr-has-index'>profile_dims</span>: 2048</li><li><span class='xr-has-index'>rtma_type</span>: 3</li><li><span class='xr-has-index'>rtma_x</span>: 28</li><li><span class='xr-has-index'>rtma_y</span>: 28</li></ul></div><div class='xr-section-details'></div></li><li class='xr-section-item'><input id='section-411ad1b9-4213-42e7-828a-0997fbf07c47' class='xr-section-summary-in' type='checkbox'  checked><label for='section-411ad1b9-4213-42e7-828a-0997fbf07c47' class='xr-section-summary' >Coordinates: <span>(8)</span></label><div class='xr-section-inline-details'></div><div class='xr-section-details'><ul class='xr-var-list'><li class='xr-var-item'><div class='xr-var-name'><span class='xr-has-index'>goes_y</span></div><div class='xr-var-dims'>(goes_y)</div><div class='xr-var-dtype'>int64</div><div class='xr-var-preview xr-preview'>0 1 2 3 4 5 6 ... 22 23 24 25 26 27</div><input id='attrs-2e6f047d-5e42-4762-8a5c-b17b84d2526e' class='xr-var-attrs-in' type='checkbox' disabled><label for='attrs-2e6f047d-5e42-4762-8a5c-b17b84d2526e' title='Show/Hide attributes'><svg class='icon xr-icon-file-text2'><use xlink:href='#icon-file-text2'></use></svg></label><input id='data-c9e64722-8c47-4421-97c2-eb91dcf424f0' class='xr-var-data-in' type='checkbox'><label for='data-c9e64722-8c47-4421-97c2-eb91dcf424f0' title='Show/Hide data repr'><svg class='icon xr-icon-database'><use xlink:href='#icon-database'></use></svg></label><div class='xr-var-attrs'><dl class='xr-attrs'></dl></div><div class='xr-var-data'><pre>array([ 0,  1,  2,  3,  4,  5,  6,  7,  8,  9, 10, 11, 12, 13, 14, 15, 16, 17,\n",
       "       18, 19, 20, 21, 22, 23, 24, 25, 26, 27])</pre></div></li><li class='xr-var-item'><div class='xr-var-name'><span class='xr-has-index'>goes_x</span></div><div class='xr-var-dims'>(goes_x)</div><div class='xr-var-dtype'>int64</div><div class='xr-var-preview xr-preview'>0 1 2 3 4 5 6 ... 22 23 24 25 26 27</div><input id='attrs-4f831f0d-672d-48ae-8f63-f206c5493711' class='xr-var-attrs-in' type='checkbox' disabled><label for='attrs-4f831f0d-672d-48ae-8f63-f206c5493711' title='Show/Hide attributes'><svg class='icon xr-icon-file-text2'><use xlink:href='#icon-file-text2'></use></svg></label><input id='data-567002c1-f248-4b5a-87f1-45e1fdd3c723' class='xr-var-data-in' type='checkbox'><label for='data-567002c1-f248-4b5a-87f1-45e1fdd3c723' title='Show/Hide data repr'><svg class='icon xr-icon-database'><use xlink:href='#icon-database'></use></svg></label><div class='xr-var-attrs'><dl class='xr-attrs'></dl></div><div class='xr-var-data'><pre>array([ 0,  1,  2,  3,  4,  5,  6,  7,  8,  9, 10, 11, 12, 13, 14, 15, 16, 17,\n",
       "       18, 19, 20, 21, 22, 23, 24, 25, 26, 27])</pre></div></li><li class='xr-var-item'><div class='xr-var-name'><span class='xr-has-index'>band</span></div><div class='xr-var-dims'>(band)</div><div class='xr-var-dtype'>int64</div><div class='xr-var-preview xr-preview'>8 9 10 11 13 14 15 16</div><input id='attrs-36117007-d02c-408d-a5ca-934ed07c2308' class='xr-var-attrs-in' type='checkbox' disabled><label for='attrs-36117007-d02c-408d-a5ca-934ed07c2308' title='Show/Hide attributes'><svg class='icon xr-icon-file-text2'><use xlink:href='#icon-file-text2'></use></svg></label><input id='data-e9ad405e-d299-4bb3-8b3e-c056a8f1926c' class='xr-var-data-in' type='checkbox'><label for='data-e9ad405e-d299-4bb3-8b3e-c056a8f1926c' title='Show/Hide data repr'><svg class='icon xr-icon-database'><use xlink:href='#icon-database'></use></svg></label><div class='xr-var-attrs'><dl class='xr-attrs'></dl></div><div class='xr-var-data'><pre>array([ 8,  9, 10, 11, 13, 14, 15, 16])</pre></div></li><li class='xr-var-item'><div class='xr-var-name'><span class='xr-has-index'>rtma_y</span></div><div class='xr-var-dims'>(rtma_y)</div><div class='xr-var-dtype'>int64</div><div class='xr-var-preview xr-preview'>0 1 2 3 4 5 6 ... 22 23 24 25 26 27</div><input id='attrs-f8d559c3-05bd-4a30-9deb-cd30bbcf5c66' class='xr-var-attrs-in' type='checkbox' disabled><label for='attrs-f8d559c3-05bd-4a30-9deb-cd30bbcf5c66' title='Show/Hide attributes'><svg class='icon xr-icon-file-text2'><use xlink:href='#icon-file-text2'></use></svg></label><input id='data-733a3fe5-86c0-490a-bbd0-a07baa854f01' class='xr-var-data-in' type='checkbox'><label for='data-733a3fe5-86c0-490a-bbd0-a07baa854f01' title='Show/Hide data repr'><svg class='icon xr-icon-database'><use xlink:href='#icon-database'></use></svg></label><div class='xr-var-attrs'><dl class='xr-attrs'></dl></div><div class='xr-var-data'><pre>array([ 0,  1,  2,  3,  4,  5,  6,  7,  8,  9, 10, 11, 12, 13, 14, 15, 16, 17,\n",
       "       18, 19, 20, 21, 22, 23, 24, 25, 26, 27])</pre></div></li><li class='xr-var-item'><div class='xr-var-name'><span class='xr-has-index'>rtma_x</span></div><div class='xr-var-dims'>(rtma_x)</div><div class='xr-var-dtype'>int64</div><div class='xr-var-preview xr-preview'>0 1 2 3 4 5 6 ... 22 23 24 25 26 27</div><input id='attrs-ad94cd94-22fb-4fd0-8e95-8c8ccb0765bd' class='xr-var-attrs-in' type='checkbox' disabled><label for='attrs-ad94cd94-22fb-4fd0-8e95-8c8ccb0765bd' title='Show/Hide attributes'><svg class='icon xr-icon-file-text2'><use xlink:href='#icon-file-text2'></use></svg></label><input id='data-92d02662-2418-43f5-8c82-7a2aa54f3c70' class='xr-var-data-in' type='checkbox'><label for='data-92d02662-2418-43f5-8c82-7a2aa54f3c70' title='Show/Hide data repr'><svg class='icon xr-icon-database'><use xlink:href='#icon-database'></use></svg></label><div class='xr-var-attrs'><dl class='xr-attrs'></dl></div><div class='xr-var-data'><pre>array([ 0,  1,  2,  3,  4,  5,  6,  7,  8,  9, 10, 11, 12, 13, 14, 15, 16, 17,\n",
       "       18, 19, 20, 21, 22, 23, 24, 25, 26, 27])</pre></div></li><li class='xr-var-item'><div class='xr-var-name'><span class='xr-has-index'>rtma_type</span></div><div class='xr-var-dims'>(rtma_type)</div><div class='xr-var-dtype'>object</div><div class='xr-var-preview xr-preview'>&#x27;LPI&#x27; &#x27;LRI&#x27; &#x27;LTI&#x27;</div><input id='attrs-acdfd344-e4f4-4f3b-a561-8ede8bbddbec' class='xr-var-attrs-in' type='checkbox' disabled><label for='attrs-acdfd344-e4f4-4f3b-a561-8ede8bbddbec' title='Show/Hide attributes'><svg class='icon xr-icon-file-text2'><use xlink:href='#icon-file-text2'></use></svg></label><input id='data-8a91be8b-66fa-43e5-ae16-8cc71e76d711' class='xr-var-data-in' type='checkbox'><label for='data-8a91be8b-66fa-43e5-ae16-8cc71e76d711' title='Show/Hide data repr'><svg class='icon xr-icon-database'><use xlink:href='#icon-database'></use></svg></label><div class='xr-var-attrs'><dl class='xr-attrs'></dl></div><div class='xr-var-data'><pre>array([&#x27;LPI&#x27;, &#x27;LRI&#x27;, &#x27;LTI&#x27;], dtype=object)</pre></div></li><li class='xr-var-item'><div class='xr-var-name'><span class='xr-has-index'>profile_dims</span></div><div class='xr-var-dims'>(profile_dims)</div><div class='xr-var-dtype'>int64</div><div class='xr-var-preview xr-preview'>0 1 2 3 4 ... 2044 2045 2046 2047</div><input id='attrs-8abd9ce8-3425-418c-962b-813df7624489' class='xr-var-attrs-in' type='checkbox' disabled><label for='attrs-8abd9ce8-3425-418c-962b-813df7624489' title='Show/Hide attributes'><svg class='icon xr-icon-file-text2'><use xlink:href='#icon-file-text2'></use></svg></label><input id='data-2096cf44-d9f3-4b20-b8d9-064707b019bb' class='xr-var-data-in' type='checkbox'><label for='data-2096cf44-d9f3-4b20-b8d9-064707b019bb' title='Show/Hide data repr'><svg class='icon xr-icon-database'><use xlink:href='#icon-database'></use></svg></label><div class='xr-var-attrs'><dl class='xr-attrs'></dl></div><div class='xr-var-data'><pre>array([   0,    1,    2, ..., 2045, 2046, 2047])</pre></div></li><li class='xr-var-item'><div class='xr-var-name'><span class='xr-has-index'>nwp_dims</span></div><div class='xr-var-dims'>(nwp_dims)</div><div class='xr-var-dtype'>int64</div><div class='xr-var-preview xr-preview'>0 1 2 3 4 5 6 ... 44 45 46 47 48 49</div><input id='attrs-5359498b-2eea-4bc5-8387-cfefe24c9b98' class='xr-var-attrs-in' type='checkbox' disabled><label for='attrs-5359498b-2eea-4bc5-8387-cfefe24c9b98' title='Show/Hide attributes'><svg class='icon xr-icon-file-text2'><use xlink:href='#icon-file-text2'></use></svg></label><input id='data-c56e29e7-ca18-41ef-b60c-e46e31f2bb92' class='xr-var-data-in' type='checkbox'><label for='data-c56e29e7-ca18-41ef-b60c-e46e31f2bb92' title='Show/Hide data repr'><svg class='icon xr-icon-database'><use xlink:href='#icon-database'></use></svg></label><div class='xr-var-attrs'><dl class='xr-attrs'></dl></div><div class='xr-var-data'><pre>array([ 0,  1,  2,  3,  4,  5,  6,  7,  8,  9, 10, 11, 12, 13, 14, 15, 16, 17,\n",
       "       18, 19, 20, 21, 22, 23, 24, 25, 26, 27, 28, 29, 30, 31, 32, 33, 34, 35,\n",
       "       36, 37, 38, 39, 40, 41, 42, 43, 44, 45, 46, 47, 48, 49])</pre></div></li></ul></div></li><li class='xr-section-item'><input id='section-eb1d02d7-3cd4-46d8-a69f-344557707549' class='xr-section-summary-in' type='checkbox'  ><label for='section-eb1d02d7-3cd4-46d8-a69f-344557707549' class='xr-section-summary' >Data variables: <span>(21)</span></label><div class='xr-section-inline-details'></div><div class='xr-section-details'><ul class='xr-var-list'><li class='xr-var-item'><div class='xr-var-name'><span>sonde_rel_time</span></div><div class='xr-var-dims'>()</div><div class='xr-var-dtype'>datetime64[ns]</div><div class='xr-var-preview xr-preview'>...</div><input id='attrs-d4eab0bb-ab8f-4447-b68e-7e6596932ece' class='xr-var-attrs-in' type='checkbox' disabled><label for='attrs-d4eab0bb-ab8f-4447-b68e-7e6596932ece' title='Show/Hide attributes'><svg class='icon xr-icon-file-text2'><use xlink:href='#icon-file-text2'></use></svg></label><input id='data-838c5ce7-2071-4436-9aac-5c1d2e0e8ab1' class='xr-var-data-in' type='checkbox'><label for='data-838c5ce7-2071-4436-9aac-5c1d2e0e8ab1' title='Show/Hide data repr'><svg class='icon xr-icon-database'><use xlink:href='#icon-database'></use></svg></label><div class='xr-var-attrs'><dl class='xr-attrs'></dl></div><div class='xr-var-data'><pre>array(&#x27;2020-01-02T05:33:00.000000000&#x27;, dtype=&#x27;datetime64[ns]&#x27;)</pre></div></li><li class='xr-var-item'><div class='xr-var-name'><span>sonde_file</span></div><div class='xr-var-dims'>()</div><div class='xr-var-dtype'>object</div><div class='xr-var-preview xr-preview'>...</div><input id='attrs-57397a56-0507-4200-af0c-a85f53021ebf' class='xr-var-attrs-in' type='checkbox' disabled><label for='attrs-57397a56-0507-4200-af0c-a85f53021ebf' title='Show/Hide attributes'><svg class='icon xr-icon-file-text2'><use xlink:href='#icon-file-text2'></use></svg></label><input id='data-e0728641-c708-4dd0-b852-d251970a09f1' class='xr-var-data-in' type='checkbox'><label for='data-e0728641-c708-4dd0-b852-d251970a09f1' title='Show/Hide data repr'><svg class='icon xr-icon-database'><use xlink:href='#icon-database'></use></svg></label><div class='xr-var-attrs'><dl class='xr-attrs'></dl></div><div class='xr-var-data'><pre>array(&#x27;/mnt/data1/stock/mlsoundings/raobs/arm-sgp/2020/sgpsondewnpnC1.b1.20200102.053300.cdf&#x27;,\n",
       "      dtype=&#x27;&lt;U85&#x27;)</pre></div></li><li class='xr-var-item'><div class='xr-var-name'><span>sonde_pres</span></div><div class='xr-var-dims'>(profile_dims)</div><div class='xr-var-dtype'>float64</div><div class='xr-var-preview xr-preview'>...</div><input id='attrs-dbedb216-bf4b-413f-aaae-dc77c1ae9358' class='xr-var-attrs-in' type='checkbox' ><label for='attrs-dbedb216-bf4b-413f-aaae-dc77c1ae9358' title='Show/Hide attributes'><svg class='icon xr-icon-file-text2'><use xlink:href='#icon-file-text2'></use></svg></label><input id='data-6d58ae25-346b-4641-8ec2-542623995011' class='xr-var-data-in' type='checkbox'><label for='data-6d58ae25-346b-4641-8ec2-542623995011' title='Show/Hide data repr'><svg class='icon xr-icon-database'><use xlink:href='#icon-database'></use></svg></label><div class='xr-var-attrs'><dl class='xr-attrs'><dt><span>units :</span></dt><dd>hectopascals</dd></dl></div><div class='xr-var-data'><pre>array([963.580017, 962.559429, 961.54102 , ...,  75.768784,  75.675487,\n",
       "        75.576557])</pre></div></li><li class='xr-var-item'><div class='xr-var-name'><span>sonde_tdry</span></div><div class='xr-var-dims'>(profile_dims)</div><div class='xr-var-dtype'>float64</div><div class='xr-var-preview xr-preview'>...</div><input id='attrs-c7c62c1c-bc98-45db-9594-e57a2f491882' class='xr-var-attrs-in' type='checkbox' ><label for='attrs-c7c62c1c-bc98-45db-9594-e57a2f491882' title='Show/Hide attributes'><svg class='icon xr-icon-file-text2'><use xlink:href='#icon-file-text2'></use></svg></label><input id='data-045dd169-1b40-4b72-b542-4f5e4facda50' class='xr-var-data-in' type='checkbox'><label for='data-045dd169-1b40-4b72-b542-4f5e4facda50' title='Show/Hide data repr'><svg class='icon xr-icon-database'><use xlink:href='#icon-database'></use></svg></label><div class='xr-var-attrs'><dl class='xr-attrs'><dt><span>units :</span></dt><dd>celsius</dd></dl></div><div class='xr-var-data'><pre>array([  4.9     ,   6.120386,   7.44435 , ..., -63.600605, -63.649721,\n",
       "       -63.715317])</pre></div></li><li class='xr-var-item'><div class='xr-var-name'><span>sonde_dp</span></div><div class='xr-var-dims'>(profile_dims)</div><div class='xr-var-dtype'>float64</div><div class='xr-var-preview xr-preview'>...</div><input id='attrs-075e7664-761a-4952-b2ab-da93e0b8f991' class='xr-var-attrs-in' type='checkbox' ><label for='attrs-075e7664-761a-4952-b2ab-da93e0b8f991' title='Show/Hide attributes'><svg class='icon xr-icon-file-text2'><use xlink:href='#icon-file-text2'></use></svg></label><input id='data-09ab3668-5959-4c24-a35e-519f92091bcd' class='xr-var-data-in' type='checkbox'><label for='data-09ab3668-5959-4c24-a35e-519f92091bcd' title='Show/Hide data repr'><svg class='icon xr-icon-database'><use xlink:href='#icon-database'></use></svg></label><div class='xr-var-attrs'><dl class='xr-attrs'><dt><span>units :</span></dt><dd>celsius</dd></dl></div><div class='xr-var-data'><pre>array([  2.76    ,   3.325652,   3.863931, ..., -88.930404, -88.95986 ,\n",
       "       -88.99719 ])</pre></div></li><li class='xr-var-item'><div class='xr-var-name'><span>sonde_alt</span></div><div class='xr-var-dims'>(profile_dims)</div><div class='xr-var-dtype'>float64</div><div class='xr-var-preview xr-preview'>...</div><input id='attrs-e03afec1-f762-4817-a421-69eb1d8f105f' class='xr-var-attrs-in' type='checkbox' ><label for='attrs-e03afec1-f762-4817-a421-69eb1d8f105f' title='Show/Hide attributes'><svg class='icon xr-icon-file-text2'><use xlink:href='#icon-file-text2'></use></svg></label><input id='data-20fe96c6-a40b-4138-82bd-d69a78ef1380' class='xr-var-data-in' type='checkbox'><label for='data-20fe96c6-a40b-4138-82bd-d69a78ef1380' title='Show/Hide data repr'><svg class='icon xr-icon-database'><use xlink:href='#icon-database'></use></svg></label><div class='xr-var-attrs'><dl class='xr-attrs'><dt><span>units :</span></dt><dd>meters</dd></dl></div><div class='xr-var-data'><pre>array([  314.799988,   323.439558,   332.079128, ..., 17982.72086 ,\n",
       "       17991.36043 , 18000.      ])</pre></div></li><li class='xr-var-item'><div class='xr-var-name'><span>nwp_file</span></div><div class='xr-var-dims'>()</div><div class='xr-var-dtype'>object</div><div class='xr-var-preview xr-preview'>...</div><input id='attrs-c8f96d16-ffee-47fa-8cb3-62e6f35cdfa2' class='xr-var-attrs-in' type='checkbox' disabled><label for='attrs-c8f96d16-ffee-47fa-8cb3-62e6f35cdfa2' title='Show/Hide attributes'><svg class='icon xr-icon-file-text2'><use xlink:href='#icon-file-text2'></use></svg></label><input id='data-e2d876c2-a4dd-4c56-ad58-a971c8952485' class='xr-var-data-in' type='checkbox'><label for='data-e2d876c2-a4dd-4c56-ad58-a971c8952485' title='Show/Hide data repr'><svg class='icon xr-icon-database'><use xlink:href='#icon-database'></use></svg></label><div class='xr-var-attrs'><dl class='xr-attrs'></dl></div><div class='xr-var-data'><pre>array(&#x27;/mnt/data1/stock/mlsoundings/rap/20200102/2000206000000&#x27;, dtype=&#x27;&lt;U55&#x27;)</pre></div></li><li class='xr-var-item'><div class='xr-var-name'><span>nwp_lon</span></div><div class='xr-var-dims'>()</div><div class='xr-var-dtype'>object</div><div class='xr-var-preview xr-preview'>...</div><input id='attrs-0693157a-3d02-4017-af2c-515bd170da76' class='xr-var-attrs-in' type='checkbox' disabled><label for='attrs-0693157a-3d02-4017-af2c-515bd170da76' title='Show/Hide attributes'><svg class='icon xr-icon-file-text2'><use xlink:href='#icon-file-text2'></use></svg></label><input id='data-32ef8dac-e4d6-4536-bbb1-9dc13a4f404b' class='xr-var-data-in' type='checkbox'><label for='data-32ef8dac-e4d6-4536-bbb1-9dc13a4f404b' title='Show/Hide data repr'><svg class='icon xr-icon-database'><use xlink:href='#icon-database'></use></svg></label><div class='xr-var-attrs'><dl class='xr-attrs'></dl></div><div class='xr-var-data'><pre>array(&#x27;/mnt/data1/stock/mlsoundings/rap/20200102/2000206000000&#x27;, dtype=&#x27;&lt;U55&#x27;)</pre></div></li><li class='xr-var-item'><div class='xr-var-name'><span>nwp_lat</span></div><div class='xr-var-dims'>()</div><div class='xr-var-dtype'>object</div><div class='xr-var-preview xr-preview'>...</div><input id='attrs-b42015bb-ed80-4716-a0c8-9fd678ded21c' class='xr-var-attrs-in' type='checkbox' disabled><label for='attrs-b42015bb-ed80-4716-a0c8-9fd678ded21c' title='Show/Hide attributes'><svg class='icon xr-icon-file-text2'><use xlink:href='#icon-file-text2'></use></svg></label><input id='data-fdd48c9a-f6c0-442a-b765-7dd3f795311a' class='xr-var-data-in' type='checkbox'><label for='data-fdd48c9a-f6c0-442a-b765-7dd3f795311a' title='Show/Hide data repr'><svg class='icon xr-icon-database'><use xlink:href='#icon-database'></use></svg></label><div class='xr-var-attrs'><dl class='xr-attrs'></dl></div><div class='xr-var-data'><pre>array(&#x27;/mnt/data1/stock/mlsoundings/rap/20200102/2000206000000&#x27;, dtype=&#x27;&lt;U55&#x27;)</pre></div></li><li class='xr-var-item'><div class='xr-var-name'><span>nwp_pres</span></div><div class='xr-var-dims'>(nwp_dims)</div><div class='xr-var-dtype'>float64</div><div class='xr-var-preview xr-preview'>...</div><input id='attrs-302fee39-28e4-45e8-8b11-dcf4adc09d5b' class='xr-var-attrs-in' type='checkbox' disabled><label for='attrs-302fee39-28e4-45e8-8b11-dcf4adc09d5b' title='Show/Hide attributes'><svg class='icon xr-icon-file-text2'><use xlink:href='#icon-file-text2'></use></svg></label><input id='data-151357fa-aed6-4745-a6ee-461c5eac815e' class='xr-var-data-in' type='checkbox'><label for='data-151357fa-aed6-4745-a6ee-461c5eac815e' title='Show/Hide data repr'><svg class='icon xr-icon-database'><use xlink:href='#icon-database'></use></svg></label><div class='xr-var-attrs'><dl class='xr-attrs'></dl></div><div class='xr-var-data'><pre>array([96219.8 , 95932.4 , 95407.  , 94499.7 , 93165.1 , 91453.9 , 89418.  ,\n",
       "       87201.3 , 84803.7 , 82133.  , 79190.  , 75975.9 , 72490.5 , 68733.9 ,\n",
       "       64699.8 , 60383.5 , 55825.9 , 51394.9 , 47390.7 , 43791.5 , 40538.6 ,\n",
       "       37577.8 , 34902.8 , 32483.  , 30292.8 , 28315.3 , 26528.7 , 24861.6 ,\n",
       "       23350.1 , 21960.9 , 20567.3 , 19171.5 , 17775.6 , 16379.7 , 14983.8 ,\n",
       "       13587.9 , 12192.  , 10796.1 ,  9400.17,  8103.27,  7063.77,  6217.32,\n",
       "        5430.26,  4692.71,  4009.61,  3376.01,  2782.01,  2227.6 ,  1712.8 ,\n",
       "        1232.65])</pre></div></li><li class='xr-var-item'><div class='xr-var-name'><span>nwp_tdry</span></div><div class='xr-var-dims'>(nwp_dims)</div><div class='xr-var-dtype'>float64</div><div class='xr-var-preview xr-preview'>...</div><input id='attrs-93c2fb1e-05e8-4c37-adde-de8327105de6' class='xr-var-attrs-in' type='checkbox' disabled><label for='attrs-93c2fb1e-05e8-4c37-adde-de8327105de6' title='Show/Hide attributes'><svg class='icon xr-icon-file-text2'><use xlink:href='#icon-file-text2'></use></svg></label><input id='data-5f70ed13-debb-4ea1-a848-e0d8f8769eb1' class='xr-var-data-in' type='checkbox'><label for='data-5f70ed13-debb-4ea1-a848-e0d8f8769eb1' title='Show/Hide data repr'><svg class='icon xr-icon-database'><use xlink:href='#icon-database'></use></svg></label><div class='xr-var-attrs'><dl class='xr-attrs'></dl></div><div class='xr-var-data'><pre>array([278.025, 280.441, 281.29 , 281.746, 281.717, 280.84 , 281.896, 283.231,\n",
       "       282.774, 280.821, 277.91 , 275.807, 274.349, 272.768, 269.986, 266.761,\n",
       "       263.123, 259.17 , 255.081, 250.569, 245.512, 240.71 , 236.431, 234.203,\n",
       "       233.857, 233.363, 230.737, 227.557, 224.367, 221.631, 219.185, 217.978,\n",
       "       218.638, 217.983, 215.821, 213.518, 211.741, 211.012, 211.915, 213.88 ,\n",
       "       212.814, 211.684, 212.535, 213.323, 214.654, 216.675, 217.181, 219.225,\n",
       "       220.72 , 222.782])</pre></div></li><li class='xr-var-item'><div class='xr-var-name'><span>nwp_spfm</span></div><div class='xr-var-dims'>(nwp_dims)</div><div class='xr-var-dtype'>float64</div><div class='xr-var-preview xr-preview'>...</div><input id='attrs-cfc1bf99-4c51-4556-9030-bcdad0bd5fef' class='xr-var-attrs-in' type='checkbox' disabled><label for='attrs-cfc1bf99-4c51-4556-9030-bcdad0bd5fef' title='Show/Hide attributes'><svg class='icon xr-icon-file-text2'><use xlink:href='#icon-file-text2'></use></svg></label><input id='data-8ec52d1f-d246-476c-aa4d-6044606dd194' class='xr-var-data-in' type='checkbox'><label for='data-8ec52d1f-d246-476c-aa4d-6044606dd194' title='Show/Hide data repr'><svg class='icon xr-icon-database'><use xlink:href='#icon-database'></use></svg></label><div class='xr-var-attrs'><dl class='xr-attrs'></dl></div><div class='xr-var-data'><pre>array([0.004839, 0.005155, 0.005275, 0.005485, 0.00559 , 0.005354, 0.003828,\n",
       "       0.00311 , 0.00283 , 0.00266 , 0.00247 , 0.00177 , 0.00112 , 0.00082 ,\n",
       "       0.00102 , 0.00123 , 0.000984, 0.000721, 0.000494, 0.000306, 0.000205,\n",
       "       0.000156, 0.000091, 0.000055, 0.000054, 0.000054, 0.000059, 0.000067,\n",
       "       0.000051, 0.000028, 0.000016, 0.000012, 0.000006, 0.000002, 0.000002,\n",
       "       0.000002, 0.000002, 0.000002, 0.000002, 0.000002, 0.000002, 0.000002,\n",
       "       0.000002, 0.000002, 0.000002, 0.000003, 0.000004, 0.000004, 0.000004,\n",
       "       0.000004])</pre></div></li><li class='xr-var-item'><div class='xr-var-name'><span>nwp_alt</span></div><div class='xr-var-dims'>(nwp_dims)</div><div class='xr-var-dtype'>float64</div><div class='xr-var-preview xr-preview'>...</div><input id='attrs-2d9cb2ff-0df5-4254-af5f-fbf8e71c5e33' class='xr-var-attrs-in' type='checkbox' disabled><label for='attrs-2d9cb2ff-0df5-4254-af5f-fbf8e71c5e33' title='Show/Hide attributes'><svg class='icon xr-icon-file-text2'><use xlink:href='#icon-file-text2'></use></svg></label><input id='data-5d18c636-7cc3-4c41-8a13-931c3ac2bb7e' class='xr-var-data-in' type='checkbox'><label for='data-5d18c636-7cc3-4c41-8a13-931c3ac2bb7e' title='Show/Hide data repr'><svg class='icon xr-icon-database'><use xlink:href='#icon-database'></use></svg></label><div class='xr-var-attrs'><dl class='xr-attrs'></dl></div><div class='xr-var-data'><pre>array([  326.555,   354.189,   402.66 ,   482.846,   599.657,   751.688,\n",
       "         934.597,  1142.82 ,  1376.71 ,  1641.37 ,  1940.61 ,  2277.37 ,\n",
       "        2656.51 ,  3083.91 ,  3565.98 ,  4108.82 ,  4706.35 ,  5327.24 ,\n",
       "        5937.02 ,  6522.52 ,  7083.8  ,  7622.49 ,  8138.33 ,  8633.41 ,\n",
       "        9111.17 ,  9572.91 , 10019.2  , 10451.3  , 10867.6  , 11276.8  ,\n",
       "       11699.7  , 12149.6  , 12633.2  , 13156.5  , 13722.8  , 14338.3  ,\n",
       "       15014.6  , 15769.6  , 16612.9  , 17504.8  , 18366.4  , 19186.3  ,\n",
       "       20028.9  , 20937.   , 21924.   , 23015.5  , 24247.6  , 25673.5  ,\n",
       "       27383.1  , 29584.7  ])</pre></div></li><li class='xr-var-item'><div class='xr-var-name'><span>goes_files</span></div><div class='xr-var-dims'>(band)</div><div class='xr-var-dtype'>object</div><div class='xr-var-preview xr-preview'>...</div><input id='attrs-7b65c9f6-f035-4412-8453-53b120616a98' class='xr-var-attrs-in' type='checkbox' disabled><label for='attrs-7b65c9f6-f035-4412-8453-53b120616a98' title='Show/Hide attributes'><svg class='icon xr-icon-file-text2'><use xlink:href='#icon-file-text2'></use></svg></label><input id='data-e4adadcc-b460-4da5-9ad2-391084008927' class='xr-var-data-in' type='checkbox'><label for='data-e4adadcc-b460-4da5-9ad2-391084008927' title='Show/Hide data repr'><svg class='icon xr-icon-database'><use xlink:href='#icon-database'></use></svg></label><div class='xr-var-attrs'><dl class='xr-attrs'></dl></div><div class='xr-var-data'><pre>array([&#x27;/mnt/mlnas01/mlsoundings/goes16/2020/l1b/2020_01_02_002/OR_ABI-L1b-RadC-M6C08_G16_s20200020531183_e20200020533556_c20200020534068.nc&#x27;,\n",
       "       &#x27;/mnt/mlnas01/mlsoundings/goes16/2020/l1b/2020_01_02_002/OR_ABI-L1b-RadC-M6C09_G16_s20200020531183_e20200020533562_c20200020534019.nc&#x27;,\n",
       "       &#x27;/mnt/mlnas01/mlsoundings/goes16/2020/l1b/2020_01_02_002/OR_ABI-L1b-RadC-M6C10_G16_s20200020531183_e20200020533568_c20200020534087.nc&#x27;,\n",
       "       &#x27;/mnt/mlnas01/mlsoundings/goes16/2020/l1b/2020_01_02_002/OR_ABI-L1b-RadC-M6C11_G16_s20200020531183_e20200020533556_c20200020534080.nc&#x27;,\n",
       "       &#x27;/mnt/mlnas01/mlsoundings/goes16/2020/l1b/2020_01_02_002/OR_ABI-L1b-RadC-M6C13_G16_s20200020531183_e20200020533568_c20200020533599.nc&#x27;,\n",
       "       &#x27;/mnt/mlnas01/mlsoundings/goes16/2020/l1b/2020_01_02_002/OR_ABI-L1b-RadC-M6C14_G16_s20200020531183_e20200020533556_c20200020534024.nc&#x27;,\n",
       "       &#x27;/mnt/mlnas01/mlsoundings/goes16/2020/l1b/2020_01_02_002/OR_ABI-L1b-RadC-M6C15_G16_s20200020531183_e20200020533562_c20200020534115.nc&#x27;,\n",
       "       &#x27;/mnt/mlnas01/mlsoundings/goes16/2020/l1b/2020_01_02_002/OR_ABI-L1b-RadC-M6C16_G16_s20200020531183_e20200020533568_c20200020534094.nc&#x27;],\n",
       "      dtype=object)</pre></div></li><li class='xr-var-item'><div class='xr-var-name'><span>goes_abi</span></div><div class='xr-var-dims'>(band, goes_y, goes_x)</div><div class='xr-var-dtype'>float32</div><div class='xr-var-preview xr-preview'>...</div><input id='attrs-ca7ac74f-99ad-4e10-934a-2bc090f39853' class='xr-var-attrs-in' type='checkbox' ><label for='attrs-ca7ac74f-99ad-4e10-934a-2bc090f39853' title='Show/Hide attributes'><svg class='icon xr-icon-file-text2'><use xlink:href='#icon-file-text2'></use></svg></label><input id='data-7271b6f7-0970-4ec8-afbc-ccb2a27c9847' class='xr-var-data-in' type='checkbox'><label for='data-7271b6f7-0970-4ec8-afbc-ccb2a27c9847' title='Show/Hide data repr'><svg class='icon xr-icon-database'><use xlink:href='#icon-database'></use></svg></label><div class='xr-var-attrs'><dl class='xr-attrs'><dt><span>units :</span></dt><dd>rad</dd></dl></div><div class='xr-var-data'><pre>array([[[ 2.858791,  2.880105, ...,  2.929839,  2.922734],\n",
       "        [ 2.865896,  2.894315, ...,  2.908524,  2.894315],\n",
       "        ...,\n",
       "        [ 2.73801 ,  2.73801 , ...,  2.134105,  2.127   ],\n",
       "        [ 2.716696,  2.709591, ...,  2.119896,  2.098581]],\n",
       "\n",
       "       [[ 7.583485,  7.628563, ...,  8.056807,  8.056807],\n",
       "        [ 7.628563,  7.718719, ...,  8.056807,  8.034267],\n",
       "        ...,\n",
       "        [ 7.989189,  7.96665 , ...,  5.915592,  5.870513],\n",
       "        [ 7.989189,  7.944111, ...,  5.938131,  5.847974]],\n",
       "\n",
       "       ...,\n",
       "\n",
       "       [[86.16587 , 86.11309 , ..., 89.54341 , 90.123924],\n",
       "        [86.007545, 86.32419 , ..., 90.07115 , 90.80999 ],\n",
       "        ...,\n",
       "        [88.857346, 88.329605, ..., 67.536606, 67.21996 ],\n",
       "        [89.70173 , 89.59618 , ..., 68.32822 , 66.5339  ]],\n",
       "\n",
       "       [[81.73371 , 81.90977 , ..., 83.67036 , 83.84641 ],\n",
       "        [81.557655, 81.90977 , ..., 83.84641 , 84.19853 ],\n",
       "        ...,\n",
       "        [83.49429 , 83.14218 , ..., 65.53632 , 65.00815 ],\n",
       "        [83.84641 , 83.67036 , ..., 66.0645  , 64.83209 ]]], dtype=float32)</pre></div></li><li class='xr-var-item'><div class='xr-var-name'><span>goes_lon</span></div><div class='xr-var-dims'>(goes_y, goes_x)</div><div class='xr-var-dtype'>float64</div><div class='xr-var-preview xr-preview'>...</div><input id='attrs-22811892-c00b-43b9-af70-ad0f9b4894e0' class='xr-var-attrs-in' type='checkbox' disabled><label for='attrs-22811892-c00b-43b9-af70-ad0f9b4894e0' title='Show/Hide attributes'><svg class='icon xr-icon-file-text2'><use xlink:href='#icon-file-text2'></use></svg></label><input id='data-baa757f5-a2a7-4c53-849b-e36ebbfdeed0' class='xr-var-data-in' type='checkbox'><label for='data-baa757f5-a2a7-4c53-849b-e36ebbfdeed0' title='Show/Hide data repr'><svg class='icon xr-icon-database'><use xlink:href='#icon-database'></use></svg></label><div class='xr-var-attrs'><dl class='xr-attrs'></dl></div><div class='xr-var-data'><pre>array([[-97.983711, -97.956893, -97.930085, ..., -97.315966, -97.289373,\n",
       "        -97.262787],\n",
       "       [-97.974003, -97.9472  , -97.920406, ..., -97.306604, -97.280024,\n",
       "        -97.253452],\n",
       "       [-97.964314, -97.937524, -97.910744, ..., -97.297258, -97.270692,\n",
       "        -97.244133],\n",
       "       ...,\n",
       "       [-97.746463, -97.719986, -97.693518, ..., -97.087119, -97.060857,\n",
       "        -97.034602],\n",
       "       [-97.737206, -97.710742, -97.684287, ..., -97.078188, -97.051939,\n",
       "        -97.025697],\n",
       "       [-97.727965, -97.701514, -97.675072, ..., -97.069273, -97.043037,\n",
       "        -97.016808]])</pre></div></li><li class='xr-var-item'><div class='xr-var-name'><span>goes_lat</span></div><div class='xr-var-dims'>(goes_y, goes_x)</div><div class='xr-var-dtype'>float64</div><div class='xr-var-preview xr-preview'>...</div><input id='attrs-48872070-7561-4b8f-b073-c88a14629150' class='xr-var-attrs-in' type='checkbox' disabled><label for='attrs-48872070-7561-4b8f-b073-c88a14629150' title='Show/Hide attributes'><svg class='icon xr-icon-file-text2'><use xlink:href='#icon-file-text2'></use></svg></label><input id='data-364897c4-8bfd-48d5-ae7e-388f629ea242' class='xr-var-data-in' type='checkbox'><label for='data-364897c4-8bfd-48d5-ae7e-388f629ea242' title='Show/Hide data repr'><svg class='icon xr-icon-database'><use xlink:href='#icon-database'></use></svg></label><div class='xr-var-attrs'><dl class='xr-attrs'></dl></div><div class='xr-var-data'><pre>array([[36.985764, 36.984613, 36.983462, ..., 36.957459, 36.956348, 36.955238],\n",
       "       [36.959625, 36.958475, 36.957327, ..., 36.931364, 36.930255, 36.929147],\n",
       "       [36.933497, 36.932349, 36.931203, ..., 36.905281, 36.904173, 36.903067],\n",
       "       ...,\n",
       "       [36.336447, 36.335339, 36.334233, ..., 36.309225, 36.308157, 36.307089],\n",
       "       [36.310658, 36.309553, 36.308448, ..., 36.283479, 36.282412, 36.281346],\n",
       "       [36.28488 , 36.283776, 36.282674, ..., 36.257743, 36.256678, 36.255614]])</pre></div></li><li class='xr-var-item'><div class='xr-var-name'><span>rtma_files</span></div><div class='xr-var-dims'>(rtma_type)</div><div class='xr-var-dtype'>object</div><div class='xr-var-preview xr-preview'>...</div><input id='attrs-b675738b-769b-4620-839b-3634d6a37c52' class='xr-var-attrs-in' type='checkbox' disabled><label for='attrs-b675738b-769b-4620-839b-3634d6a37c52' title='Show/Hide attributes'><svg class='icon xr-icon-file-text2'><use xlink:href='#icon-file-text2'></use></svg></label><input id='data-2b211d53-e682-49c1-8c01-8f78e8967b2e' class='xr-var-data-in' type='checkbox'><label for='data-2b211d53-e682-49c1-8c01-8f78e8967b2e' title='Show/Hide data repr'><svg class='icon xr-icon-database'><use xlink:href='#icon-database'></use></svg></label><div class='xr-var-attrs'><dl class='xr-attrs'></dl></div><div class='xr-var-data'><pre>array([&#x27;/mnt/mlnas01/mlsoundings/rtma/lpi/2020/9950_NDGD_LPI_20200102/LPIA98_KWBR_202001020600&#x27;,\n",
       "       &#x27;/mnt/mlnas01/mlsoundings/rtma/lri/2020/9950_NDGD_LRI_20200102/LRIA98_KWBR_202001020600&#x27;,\n",
       "       &#x27;/mnt/mlnas01/mlsoundings/rtma/lti/2020/9950_NDGD_LTI_20200102/LTIA98_KWBR_202001020600&#x27;],\n",
       "      dtype=object)</pre></div></li><li class='xr-var-item'><div class='xr-var-name'><span>rtma_values</span></div><div class='xr-var-dims'>(rtma_type, rtma_y, rtma_x)</div><div class='xr-var-dtype'>float32</div><div class='xr-var-preview xr-preview'>...</div><input id='attrs-84b75f5c-8616-4b44-8d59-ad69489c673c' class='xr-var-attrs-in' type='checkbox' ><label for='attrs-84b75f5c-8616-4b44-8d59-ad69489c673c' title='Show/Hide attributes'><svg class='icon xr-icon-file-text2'><use xlink:href='#icon-file-text2'></use></svg></label><input id='data-6a9fade2-2a73-4b8f-b6f2-5d089b15d15d' class='xr-var-data-in' type='checkbox'><label for='data-6a9fade2-2a73-4b8f-b6f2-5d089b15d15d' title='Show/Hide data repr'><svg class='icon xr-icon-database'><use xlink:href='#icon-database'></use></svg></label><div class='xr-var-attrs'><dl class='xr-attrs'><dt><span>units :</span></dt><dd>LPI: something, LTI: something, LRI: something</dd></dl></div><div class='xr-var-data'><pre>array([[[95726.  , 95907.  , ..., 95773.  , 95880.  ],\n",
       "        [95806.  , 95961.  , ..., 95880.  , 95998.  ],\n",
       "        ...,\n",
       "        [95424.  , 95765.  , ..., 96594.  , 96575.  ],\n",
       "        [95697.  , 95823.  , ..., 96685.  , 96786.  ]],\n",
       "\n",
       "       [[  274.62,   274.56, ...,   275.66,   275.51],\n",
       "        [  274.46,   274.53, ...,   275.57,   275.52],\n",
       "        ...,\n",
       "        [  275.25,   275.13, ...,   276.85,   276.97],\n",
       "        [  275.24,   275.18, ...,   277.1 ,   276.93]],\n",
       "\n",
       "       [[  275.97,   276.27, ...,   277.7 ,   277.68],\n",
       "        [  276.12,   276.2 , ...,   277.4 ,   277.49],\n",
       "        ...,\n",
       "        [  276.  ,   276.17, ...,   279.72,   280.07],\n",
       "        [  275.95,   275.96, ...,   280.15,   279.94]]], dtype=float32)</pre></div></li><li class='xr-var-item'><div class='xr-var-name'><span>rtma_lon</span></div><div class='xr-var-dims'>(rtma_y, rtma_x)</div><div class='xr-var-dtype'>float64</div><div class='xr-var-preview xr-preview'>...</div><input id='attrs-763c5cea-f09a-4959-be75-8b33e8a57b03' class='xr-var-attrs-in' type='checkbox' disabled><label for='attrs-763c5cea-f09a-4959-be75-8b33e8a57b03' title='Show/Hide attributes'><svg class='icon xr-icon-file-text2'><use xlink:href='#icon-file-text2'></use></svg></label><input id='data-568feaf1-9c36-4eff-9bfb-cfef80203b31' class='xr-var-data-in' type='checkbox'><label for='data-568feaf1-9c36-4eff-9bfb-cfef80203b31' title='Show/Hide data repr'><svg class='icon xr-icon-database'><use xlink:href='#icon-database'></use></svg></label><div class='xr-var-attrs'><dl class='xr-attrs'></dl></div><div class='xr-var-data'><pre>array([[-97.890924, -97.863002, -97.835079, ..., -97.192795, -97.164867,\n",
       "        -97.136939],\n",
       "       [-97.890329, -97.862412, -97.834495, ..., -97.192343, -97.164421,\n",
       "        -97.136499],\n",
       "       [-97.889734, -97.861823, -97.833912, ..., -97.191892, -97.163976,\n",
       "        -97.136059],\n",
       "       ...,\n",
       "       [-97.876113, -97.848334, -97.820554, ..., -97.181559, -97.153774,\n",
       "        -97.125989],\n",
       "       [-97.875524, -97.84775 , -97.819976, ..., -97.181112, -97.153333,\n",
       "        -97.125554],\n",
       "       [-97.874935, -97.847167, -97.819398, ..., -97.180665, -97.152892,\n",
       "        -97.125118]])</pre></div></li><li class='xr-var-item'><div class='xr-var-name'><span>rtma_lat</span></div><div class='xr-var-dims'>(rtma_y, rtma_x)</div><div class='xr-var-dtype'>float64</div><div class='xr-var-preview xr-preview'>...</div><input id='attrs-b9360c7a-c873-4161-b51d-cf0fe92aa585' class='xr-var-attrs-in' type='checkbox' disabled><label for='attrs-b9360c7a-c873-4161-b51d-cf0fe92aa585' title='Show/Hide attributes'><svg class='icon xr-icon-file-text2'><use xlink:href='#icon-file-text2'></use></svg></label><input id='data-9d928f8f-339b-4385-b899-4f23949dc033' class='xr-var-data-in' type='checkbox'><label for='data-9d928f8f-339b-4385-b899-4f23949dc033' title='Show/Hide data repr'><svg class='icon xr-icon-database'><use xlink:href='#icon-database'></use></svg></label><div class='xr-var-attrs'><dl class='xr-attrs'></dl></div><div class='xr-var-data'><pre>array([[36.913712, 36.914186, 36.914655, ..., 36.924178, 36.924536, 36.924891],\n",
       "       [36.891386, 36.891859, 36.892329, ..., 36.90185 , 36.902209, 36.902563],\n",
       "       [36.869058, 36.869531, 36.870001, ..., 36.879521, 36.87988 , 36.880234],\n",
       "       ...,\n",
       "       [36.354989, 36.355461, 36.355929, ..., 36.365423, 36.365781, 36.366134],\n",
       "       [36.332615, 36.333088, 36.333555, ..., 36.343048, 36.343406, 36.343759],\n",
       "       [36.31024 , 36.310712, 36.31118 , ..., 36.320672, 36.32103 , 36.321383]])</pre></div></li></ul></div></li><li class='xr-section-item'><input id='section-0c6a36d6-5008-43e5-9887-b877b8cd74d1' class='xr-section-summary-in' type='checkbox' disabled ><label for='section-0c6a36d6-5008-43e5-9887-b877b8cd74d1' class='xr-section-summary'  title='Expand/collapse section'>Attributes: <span>(0)</span></label><div class='xr-section-inline-details'></div><div class='xr-section-details'><dl class='xr-attrs'></dl></div></li></ul></div></div>"
      ],
      "text/plain": [
       "<xarray.Dataset>\n",
       "Dimensions:         (band: 8, goes_x: 28, goes_y: 28, nwp_dims: 50, profile_dims: 2048, rtma_type: 3, rtma_x: 28, rtma_y: 28)\n",
       "Coordinates:\n",
       "  * goes_y          (goes_y) int64 0 1 2 3 4 5 6 7 8 ... 20 21 22 23 24 25 26 27\n",
       "  * goes_x          (goes_x) int64 0 1 2 3 4 5 6 7 8 ... 20 21 22 23 24 25 26 27\n",
       "  * band            (band) int64 8 9 10 11 13 14 15 16\n",
       "  * rtma_y          (rtma_y) int64 0 1 2 3 4 5 6 7 8 ... 20 21 22 23 24 25 26 27\n",
       "  * rtma_x          (rtma_x) int64 0 1 2 3 4 5 6 7 8 ... 20 21 22 23 24 25 26 27\n",
       "  * rtma_type       (rtma_type) object 'LPI' 'LRI' 'LTI'\n",
       "  * profile_dims    (profile_dims) int64 0 1 2 3 4 ... 2043 2044 2045 2046 2047\n",
       "  * nwp_dims        (nwp_dims) int64 0 1 2 3 4 5 6 7 ... 42 43 44 45 46 47 48 49\n",
       "Data variables:\n",
       "    sonde_rel_time  datetime64[ns] ...\n",
       "    sonde_file      object ...\n",
       "    sonde_pres      (profile_dims) float64 ...\n",
       "    sonde_tdry      (profile_dims) float64 ...\n",
       "    sonde_dp        (profile_dims) float64 ...\n",
       "    sonde_alt       (profile_dims) float64 ...\n",
       "    nwp_file        object ...\n",
       "    nwp_lon         object ...\n",
       "    nwp_lat         object ...\n",
       "    nwp_pres        (nwp_dims) float64 ...\n",
       "    nwp_tdry        (nwp_dims) float64 ...\n",
       "    nwp_spfm        (nwp_dims) float64 ...\n",
       "    nwp_alt         (nwp_dims) float64 ...\n",
       "    goes_files      (band) object ...\n",
       "    goes_abi        (band, goes_y, goes_x) float32 ...\n",
       "    goes_lon        (goes_y, goes_x) float64 ...\n",
       "    goes_lat        (goes_y, goes_x) float64 ...\n",
       "    rtma_files      (rtma_type) object ...\n",
       "    rtma_values     (rtma_type, rtma_y, rtma_x) float32 ...\n",
       "    rtma_lon        (rtma_y, rtma_x) float64 ...\n",
       "    rtma_lat        (rtma_y, rtma_x) float64 ..."
      ]
     },
     "execution_count": 9,
     "metadata": {},
     "output_type": "execute_result"
    }
   ],
   "source": [
    "xar = xr.open_dataset('/mnt/data1/stock/mlsoundings/processed/sgp_2020_01_02_0533.nc')\n",
    "xar"
   ]
  },
  {
   "cell_type": "code",
   "execution_count": 137,
   "metadata": {},
   "outputs": [
    {
     "data": {
      "image/png": "[encoded data removed]",
      "text/plain": [
       "<Figure size 648x504 with 8 Axes>"
      ]
     },
     "metadata": {
      "image/png": {
       "height": 441,
       "width": 640
      },
      "needs_background": "light"
     },
     "output_type": "display_data"
    }
   ],
   "source": [
    "patch = xar.goes_abi.values\n",
    "vmin = patch.min() # set min/max plotting range  \n",
    "vmax = patch.max()\n",
    "\n",
    "fig, axs = plt.subplots(2, 4, figsize=(9,7))\n",
    "[axi.set_axis_off() for axi in axs.ravel()]\n",
    "r = 0\n",
    "for i in range(8):\n",
    "    if i >= 4: r = 1\n",
    "    axs[r, i % 4].imshow(patch[i,:,:], vmin=vmin, vmax=vmax)\n",
    "    plt.suptitle('Exmaple Patch', fontsize=20)\n",
    "    axs[r, i % 4].set_title(f'ch, {str(xar.band.values[i])}')\n",
    "fig.tight_layout()"
   ]
  },
  {
   "cell_type": "code",
   "execution_count": 138,
   "metadata": {},
   "outputs": [
    {
     "data": {
      "image/png": "[encoded data removed]",
      "text/plain": [
       "<Figure size 648x324 with 3 Axes>"
      ]
     },
     "metadata": {
      "image/png": {
       "height": 321,
       "width": 640
      },
      "needs_background": "light"
     },
     "output_type": "display_data"
    }
   ],
   "source": [
    "patch = xar.rtma_values.values\n",
    "vmin = patch.min() # set min/max plotting range  \n",
    "vmax = patch.max()\n",
    "\n",
    "fig, axs = plt.subplots(1, 3, figsize=(9, 4.5))\n",
    "[axi.set_axis_off() for axi in axs.ravel()]\n",
    "for i in range(3):\n",
    "    im = axs[i].imshow(patch[i,:,:], vmin=vmin, vmax=vmax)\n",
    "    plt.suptitle('Exmaple Patch', fontsize=20)\n",
    "    axs[i].set_title(f'{str(rtma.rtma_types[i])}')\n",
    "    break\n",
    "fig.tight_layout()"
   ]
  },
  {
   "cell_type": "markdown",
   "metadata": {},
   "source": [
    "---\n",
    "# Misc"
   ]
  },
  {
   "cell_type": "code",
   "execution_count": 55,
   "metadata": {},
   "outputs": [],
   "source": [
    "sounding_dict = dict()\n",
    "sounding_dict[radiosonde_utils.PRESSURE_COLUMN_KEY] = xar.sonde_profile_P.values[index]\n",
    "sounding_dict[radiosonde_utils.TEMPERATURE_COLUMN_KEY] = xar.sonde_profile_T.values[index]\n",
    "sounding_dict[radiosonde_utils.DEWPOINT_COLUMN_KEY] = xar.sonde_profile_Td.values[index]"
   ]
  },
  {
   "cell_type": "code",
   "execution_count": 66,
   "metadata": {},
   "outputs": [
    {
     "data": {
      "text/plain": [
       "(2023.905889349416, -101.55760642758013)"
      ]
     },
     "execution_count": 66,
     "metadata": {},
     "output_type": "execute_result"
    }
   ],
   "source": [
    "radiosonde_products.surface_based_cape_cin(sounding_dict)"
   ]
  },
  {
   "cell_type": "code",
   "execution_count": 60,
   "metadata": {},
   "outputs": [
    {
     "data": {
      "text/plain": [
       "(2571.6940645766363, -11.010678054471661)"
      ]
     },
     "execution_count": 60,
     "metadata": {},
     "output_type": "execute_result"
    }
   ],
   "source": [
    "radiosonde_products.most_unstable_cape_cin(sounding_dict)"
   ]
  },
  {
   "cell_type": "code",
   "execution_count": 83,
   "metadata": {},
   "outputs": [
    {
     "name": "stdout",
     "output_type": "stream",
     "text": [
      "380.8878119529115 nan\n"
     ]
    }
   ],
   "source": [
    "import metpy.calc\n",
    "\n",
    "el_pressures, el_temperatures = 0, 0\n",
    "n = 0\n",
    "\n",
    "for i in xar.sample.values:\n",
    "    sounding_dict = dict()\n",
    "    sounding_dict[radiosonde_utils.PRESSURE_COLUMN_KEY] = xar.sonde_profile_P.values[i]\n",
    "    sounding_dict[radiosonde_utils.TEMPERATURE_COLUMN_KEY] = xar.sonde_profile_T.values[i]\n",
    "    sounding_dict[radiosonde_utils.DEWPOINT_COLUMN_KEY] = xar.sonde_profile_Td.values[i]\n",
    "    el_pressure, el_temperature = radiosonde_products.el(sounding_dict)\n",
    "    \n",
    "    if not np.isnan(el_pressure):\n",
    "        el_pressures += el_pressure\n",
    "        el_temperatures += el_temperature\n",
    "        n += 1.\n",
    "        \n",
    "print(el_pressures/n, el_temperature/n)"
   ]
  },
  {
   "cell_type": "markdown",
   "metadata": {},
   "source": [
    "moist lapse rate in pressure coordinates\n",
    "$$\\frac{dT}{dP} = \\Big(\\frac{1}{P}\\Big) \\frac{R_d T + L_v r_s}{C_{pd} + \\frac{L_v^2 r_s \\epsilon}{R_d T^2}} : b = 1$$\n",
    "\n",
    "dry lapse rate in pressure coordinates\n",
    "$$\\frac{dT}{dP} = \\frac{b R_d T}{C_{pd} P}$$"
   ]
  },
  {
   "cell_type": "code",
   "execution_count": 82,
   "metadata": {},
   "outputs": [
    {
     "name": "stdout",
     "output_type": "stream",
     "text": [
      "(100, 2) (100, 1) (2, 1)\n"
     ]
    },
    {
     "data": {
      "image/png": "[encoded data removed]",
      "text/plain": [
       "<Figure size 1296x432 with 1 Axes>"
      ]
     },
     "metadata": {
      "image/png": {
       "height": 357,
       "width": 1056
      },
      "needs_background": "light"
     },
     "output_type": "display_data"
    }
   ],
   "source": [
    "n_samples = 100\n",
    "X = np.linspace(0, 10, n_samples).reshape((-1, 1))\n",
    "T = -0.8 - 0.04 * X  + 0.003 * (X - 2)**3\n",
    "X = np.insert( X, 0, 1, axis=1 )\n",
    "w = np.random.uniform(-1, 1, (X.shape[1], 1 ))\n",
    "print(X.shape, T.shape, w.shape)\n",
    "\n",
    "plt.figure(figsize=(18, 6))\n",
    "plt.plot(X[:,1], T, label=\"$f(x) = -0.8 - 0.04 X + 0.003 (X - 2)^3$\")\n",
    "plt.plot(X[:,1], X @ w)\n",
    "plt.legend(loc='best', fontsize=12);"
   ]
  },
  {
   "cell_type": "code",
   "execution_count": null,
   "metadata": {},
   "outputs": [],
   "source": []
  }
 ],
 "metadata": {
  "kernelspec": {
   "display_name": "Python 3",
   "language": "python",
   "name": "python3"
  },
  "language_info": {
   "codemirror_mode": {
    "name": "ipython",
    "version": 3
   },
   "file_extension": ".py",
   "mimetype": "text/x-python",
   "name": "python",
   "nbconvert_exporter": "python",
   "pygments_lexer": "ipython3",
   "version": "3.8.3"
  }
 },
 "nbformat": 4,
 "nbformat_minor": 4
}
