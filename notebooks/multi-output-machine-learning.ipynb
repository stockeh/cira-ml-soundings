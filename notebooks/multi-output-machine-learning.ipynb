{
 "cells": [
  {
   "cell_type": "code",
   "execution_count": 1,
   "metadata": {},
   "outputs": [],
   "source": [
    "import matplotlib.pyplot as plt\n",
    "import numpy as np\n",
    "import tensorflow as tf\n",
    "import pandas as pd\n",
    "\n",
    "import itertools\n",
    "import time\n",
    "import sys  \n",
    "\n",
    "sys.path.insert(0, '../')\n",
    "\n",
    "from soundings.deep_learning import mlutilities as ml\n",
    "from soundings.deep_learning import tf_neuralnetwork as nn\n",
    "from soundings.deep_learning import tf_metrics as metrics\n",
    "\n",
    "from soundings.preprocessing import dataloader as dl\n",
    "\n",
    "from soundings.plotting import radiosonde_plotting, results\n",
    "from soundings.utils import radiosonde_products, radiosonde_utils\n",
    "\n",
    "from IPython.display import display\n",
    "from ipywidgets import FloatProgress\n",
    "\n",
    "%matplotlib inline\n",
    "%config InlineBackend.figure_format = 'retina'\n",
    "\n",
    "%load_ext autoreload\n",
    "%autoreload 2"
   ]
  },
  {
   "cell_type": "code",
   "execution_count": 2,
   "metadata": {},
   "outputs": [
    {
     "name": "stdout",
     "output_type": "stream",
     "text": [
      "PhysicalDevice(name='/physical_device:GPU:0', device_type='GPU')\n",
      "PhysicalDevice(name='/physical_device:GPU:1', device_type='GPU')\n",
      "\n",
      "Mon Nov  2 16:28:40 2020       \n",
      "+-----------------------------------------------------------------------------+\n",
      "| NVIDIA-SMI 450.51.06    Driver Version: 450.51.06    CUDA Version: 11.0     |\n",
      "|-------------------------------+----------------------+----------------------+\n",
      "| GPU  Name        Persistence-M| Bus-Id        Disp.A | Volatile Uncorr. ECC |\n",
      "| Fan  Temp  Perf  Pwr:Usage/Cap|         Memory-Usage | GPU-Util  Compute M. |\n",
      "|                               |                      |               MIG M. |\n",
      "|===============================+======================+======================|\n",
      "|   0  Quadro RTX 6000     Off  | 00000000:3D:00.0 Off |                  Off |\n",
      "| 33%   30C    P8    12W / 260W |     16MiB / 24212MiB |      0%      Default |\n",
      "|                               |                      |                  N/A |\n",
      "+-------------------------------+----------------------+----------------------+\n",
      "|   1  Quadro RTX 6000     Off  | 00000000:B2:00.0 Off |                  Off |\n",
      "| 33%   29C    P8     5W / 260W |     16MiB / 24212MiB |      0%      Default |\n",
      "|                               |                      |                  N/A |\n",
      "+-------------------------------+----------------------+----------------------+\n",
      "                                                                               \n",
      "+-----------------------------------------------------------------------------+\n",
      "| Processes:                                                                  |\n",
      "|  GPU   GI   CI        PID   Type   Process name                  GPU Memory |\n",
      "|        ID   ID                                                   Usage      |\n",
      "|=============================================================================|\n",
      "|    0   N/A  N/A      3852      G   /usr/libexec/Xorg                  10MiB |\n",
      "|    0   N/A  N/A      8905      G   /usr/bin/gnome-shell                4MiB |\n",
      "|    1   N/A  N/A      3852      G   /usr/libexec/Xorg                  10MiB |\n",
      "|    1   N/A  N/A      8905      G   /usr/bin/gnome-shell                4MiB |\n",
      "+-----------------------------------------------------------------------------+\n"
     ]
    }
   ],
   "source": [
    "processed_vol = '/mnt/data1/stock/mlsoundings/processed/'\n",
    "PLOT_CMAP = 'RdYlBu_r'\n",
    "\n",
    "gpus = tf.config.get_visible_devices('GPU')\n",
    "for device in gpus:\n",
    "    print(device)\n",
    "    # tf.config.experimental.set_visible_devices(device, 'GPU')\n",
    "    tf.config.experimental.set_memory_growth(device, True)\n",
    "print()\n",
    "!nvidia-smi"
   ]
  },
  {
   "cell_type": "code",
   "execution_count": 3,
   "metadata": {},
   "outputs": [
    {
     "name": "stdout",
     "output_type": "stream",
     "text": [
      "['raob', 'rap', 'goes', 'rtma', 'sonde_files']\n",
      "(81276, 256, 4) (81276, 256, 4) (81276, 3, 3, 8) (81276, 3, 3, 3)\n"
     ]
    }
   ],
   "source": [
    "f = '/mnt/data1/stock/mlsoundings/preprocessed.npz'\n",
    "# np.savez(f, raob=raob, rap=rap,\n",
    "#          goes=goes, rtma=rtma, sonde_files=sonde_files)\n",
    "\n",
    "container = np.load(f)\n",
    "\n",
    "print(container.files)\n",
    "\n",
    "raob = container['raob']\n",
    "rap = container['rap']\n",
    "goes = container['goes']\n",
    "rtma = container['rtma']\n",
    "sonde_files = container['sonde_files']\n",
    "\n",
    "print(raob.shape, rap.shape, goes.shape, rtma.shape)"
   ]
  },
  {
   "cell_type": "code",
   "execution_count": 4,
   "metadata": {},
   "outputs": [],
   "source": [
    "diff = raob[:,:,dl.TEMPERATURE] - rap[:,:,dl.TEMPERATURE]\n",
    "\n",
    "threshold = 20\n",
    "inds = np.unique(np.where(abs(diff) >= threshold)[0])\n",
    "\n",
    "raob = np.delete(raob, inds, 0)\n",
    "rap  = np.delete(rap, inds, 0)\n",
    "goes = np.delete(goes, inds, 0)\n",
    "rtma = np.delete(rtma, inds, 0)\n",
    "sonde_files = np.delete(sonde_files, inds, 0)"
   ]
  },
  {
   "cell_type": "code",
   "execution_count": 5,
   "metadata": {},
   "outputs": [
    {
     "data": {
      "text/plain": [
       "((64947, 256, 4), (64947, 256, 2), (16237, 256, 4), (16237, 256, 2))"
      ]
     },
     "execution_count": 5,
     "metadata": {},
     "output_type": "execute_result"
    }
   ],
   "source": [
    "Xtrain, Ttrain, Xtest, Ttest = ml.partition(rap, raob, (0.8,0.2), shuffle=True)\n",
    "\n",
    "input_dims = [dl.PRESSURE, dl.TEMPERATURE, dl.DEWPOINT, dl.ALTITUDE]\n",
    "\n",
    "Xtrain = Xtrain[:, :, input_dims]\n",
    "Ttrain = Ttrain[:, :, [dl.TEMPERATURE, dl.DEWPOINT]]\n",
    "\n",
    "Xtest = Xtest[:, :, input_dims]\n",
    "Ttest = Ttest[:, :, [dl.TEMPERATURE, dl.DEWPOINT]]\n",
    "Xtrain.shape, Ttrain.shape, Xtest.shape, Ttest.shape"
   ]
  },
  {
   "cell_type": "code",
   "execution_count": null,
   "metadata": {},
   "outputs": [
    {
     "name": "stdout",
     "output_type": "stream",
     "text": [
      "epoch: 0, rmse 4.27874, val_rmse 3.52006\n",
      "epoch: 6, rmse 3.42483, val_rmse 3.36804\n",
      "epoch: 12, rmse 3.36903, val_rmse 3.31149\n",
      "epoch: 18, rmse 3.33695, val_rmse 3.29303\n"
     ]
    }
   ],
   "source": [
    "nnet = nn.SkipNeuralNetwork(Xtrain.shape[1:], [256, 512, 1024], \n",
    "                            [(5, 1), (5, 1), (5, 1)],\n",
    "                            Ttrain.shape[1:])\n",
    "# nnet.model.summary()\n",
    "nnet.train(Xtrain, Ttrain, 30, 128, method='adam', verbose=True,\n",
    "           learning_rate=0.0001, validation=[Xtest, Ttest])"
   ]
  },
  {
   "cell_type": "code",
   "execution_count": null,
   "metadata": {},
   "outputs": [],
   "source": [
    "results.plot_loss(nnet)"
   ]
  },
  {
   "cell_type": "code",
   "execution_count": null,
   "metadata": {},
   "outputs": [],
   "source": [
    "Y = nnet.use(Xtest)"
   ]
  },
  {
   "cell_type": "code",
   "execution_count": null,
   "metadata": {},
   "outputs": [],
   "source": [
    "# 1.055, 0.995 (8,1)\n",
    "results.plot_altitude_rmse_verticle(None, None, Ttest[:,:,0],\n",
    "                                    Xtest[:,:,dl.TEMPERATURE], Y=Y[:,:,0])"
   ]
  },
  {
   "cell_type": "code",
   "execution_count": null,
   "metadata": {},
   "outputs": [],
   "source": [
    "# 4.549, 3.590 (8,1)\n",
    "results.plot_altitude_rmse_verticle(None, None, Ttest[:,:,1],\n",
    "                                    Xtest[:,:,dl.DEWPOINT], Y=Y[:,:,1])"
   ]
  },
  {
   "cell_type": "code",
   "execution_count": null,
   "metadata": {},
   "outputs": [],
   "source": [
    "i = 7\n",
    "sounding = dict()\n",
    "sounding[radiosonde_utils.PRESSURE_COLUMN_KEY] = Xtest[i,:,dl.PRESSURE]\n",
    "sounding[radiosonde_utils.TEMPERATURE_COLUMN_KEY] = Ttest[i,:,0]\n",
    "sounding[radiosonde_utils.NWP_TEMPERATURE_COLUMN_KEY] = Xtest[i,:,dl.TEMPERATURE]\n",
    "sounding[radiosonde_utils.PREDICTED_TEMPERATURE_COLUMN_KEY] = Y[i,:,0]\n",
    "\n",
    "radiosonde_plotting.plot_nwp_ml_sounding(sounding);"
   ]
  },
  {
   "cell_type": "code",
   "execution_count": null,
   "metadata": {},
   "outputs": [],
   "source": [
    "sounding = dict()\n",
    "sounding[radiosonde_utils.PRESSURE_COLUMN_KEY] = Xtest[i,:,dl.PRESSURE]\n",
    "sounding[radiosonde_utils.TEMPERATURE_COLUMN_KEY] = Ttest[i,:,1]\n",
    "sounding[radiosonde_utils.NWP_TEMPERATURE_COLUMN_KEY] = Xtest[i,:,dl.DEWPOINT]\n",
    "sounding[radiosonde_utils.PREDICTED_TEMPERATURE_COLUMN_KEY] = Y[i,:,1]\n",
    "\n",
    "radiosonde_plotting.plot_nwp_ml_sounding(sounding);"
   ]
  },
  {
   "cell_type": "code",
   "execution_count": null,
   "metadata": {},
   "outputs": [],
   "source": [
    "import metpy"
   ]
  },
  {
   "cell_type": "code",
   "execution_count": null,
   "metadata": {},
   "outputs": [],
   "source": [
    "i = 0\n",
    "pressure = Xtrain[i, :, dl.PRESSURE]\n",
    "temperature = Xtrain[i, :, dl.TEMPERATURE]\n",
    "dewpoint = Xtrain[i, :, dl.DEWPOINT]\n",
    "metpy.calc.surface_based_cape_cin(pressure, temperature, dewpoint)"
   ]
  }
 ],
 "metadata": {
  "kernelspec": {
   "display_name": "Python 3",
   "language": "python",
   "name": "python3"
  },
  "language_info": {
   "codemirror_mode": {
    "name": "ipython",
    "version": 3
   },
   "file_extension": ".py",
   "mimetype": "text/x-python",
   "name": "python",
   "nbconvert_exporter": "python",
   "pygments_lexer": "ipython3",
   "version": "3.8.5"
  }
 },
 "nbformat": 4,
 "nbformat_minor": 4
}
